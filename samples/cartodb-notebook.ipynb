{
 "cells": [
  {
   "cell_type": "markdown",
   "metadata": {},
   "source": [
    "# Map your IBM Cloud data\n",
    "\n",
    "- last modified: July, 2016\n",
    "- author: [Raj Singh](https://developer.ibm.com/clouddataservices/author/rrsingh/)\n",
    "- original: https://github.com/ibm-cds-labs/open-data/blob/master/samples/cartodb.ipynb\n",
    "- blog post: [Map your IBM Cloud data](https://developer.ibm.com/clouddataservices/)"
   ]
  },
  {
   "cell_type": "markdown",
   "metadata": {},
   "source": [
    "## Overview"
   ]
  },
  {
   "cell_type": "code",
   "execution_count": 1,
   "metadata": {
    "collapsed": true
   },
   "outputs": [],
   "source": [
    "import pandas as pd, numpy as np, os"
   ]
  },
  {
   "cell_type": "markdown",
   "metadata": {},
   "source": [
    "<a id=\"censusdata\"></a>\n",
    "### Get population from Census\n",
    "\n",
    "Census data is from the 2013 US Census American Community Survey (ACS), 5-year estimates. \n",
    "\n",
    "Get the file used here on the [IBM Analytics Exchange](https://console.ng.bluemix.net/data/exchange/). You can get your free, individual \"API key\" on the data set's detail page:\n",
    " \n",
    "- [Population and Age](https://console.ng.bluemix.net/data/exchange/public/e/united-states-demographic-measures-age)\n",
    "\n",
    "After getting your API key (your personal URL for the data file), in this script replace, for example, `os.environ['AE_KEY_AGE']` with your URL for the Population and Age data CSV file."
   ]
  },
  {
   "cell_type": "code",
   "execution_count": 2,
   "metadata": {
    "collapsed": false
   },
   "outputs": [
    {
     "data": {
      "text/html": [
       "<div>\n",
       "<table border=\"1\" class=\"dataframe\">\n",
       "  <thead>\n",
       "    <tr style=\"text-align: right;\">\n",
       "      <th></th>\n",
       "      <th>POPULATION</th>\n",
       "    </tr>\n",
       "    <tr>\n",
       "      <th>GEOID</th>\n",
       "      <th></th>\n",
       "    </tr>\n",
       "  </thead>\n",
       "  <tbody>\n",
       "    <tr>\n",
       "      <th>86000US46770</th>\n",
       "      <td>2883</td>\n",
       "    </tr>\n",
       "    <tr>\n",
       "      <th>86000US73487</th>\n",
       "      <td>148</td>\n",
       "    </tr>\n",
       "    <tr>\n",
       "      <th>86000US89523</th>\n",
       "      <td>31732</td>\n",
       "    </tr>\n",
       "    <tr>\n",
       "      <th>86000US78225</th>\n",
       "      <td>14076</td>\n",
       "    </tr>\n",
       "    <tr>\n",
       "      <th>86000US02668</th>\n",
       "      <td>2755</td>\n",
       "    </tr>\n",
       "    <tr>\n",
       "      <th>86000US21829</th>\n",
       "      <td>880</td>\n",
       "    </tr>\n",
       "    <tr>\n",
       "      <th>86000US87724</th>\n",
       "      <td>0</td>\n",
       "    </tr>\n",
       "    <tr>\n",
       "      <th>86000US68341</th>\n",
       "      <td>1080</td>\n",
       "    </tr>\n",
       "    <tr>\n",
       "      <th>86000US67218</th>\n",
       "      <td>22482</td>\n",
       "    </tr>\n",
       "    <tr>\n",
       "      <th>86000US84023</th>\n",
       "      <td>225</td>\n",
       "    </tr>\n",
       "  </tbody>\n",
       "</table>\n",
       "</div>"
      ],
      "text/plain": [
       "              POPULATION\n",
       "GEOID                   \n",
       "86000US46770        2883\n",
       "86000US73487         148\n",
       "86000US89523       31732\n",
       "86000US78225       14076\n",
       "86000US02668        2755\n",
       "86000US21829         880\n",
       "86000US87724           0\n",
       "86000US68341        1080\n",
       "86000US67218       22482\n",
       "86000US84023         225"
      ]
     },
     "execution_count": 2,
     "metadata": {},
     "output_type": "execute_result"
    }
   ],
   "source": [
    "pop_df = pd.read_csv( os.environ['AE_KEY_AGE'], usecols=['GEOID','B01001e1'], dtype={\"GEOID\": np.str} )\n",
    "pop_df.columns = ['GEOID','POPULATION']\n",
    "pop_df = pop_df.set_index('GEOID')\n",
    "pop_df.sample(10)"
   ]
  },
  {
   "cell_type": "code",
   "execution_count": 3,
   "metadata": {
    "collapsed": false
   },
   "outputs": [
    {
     "data": {
      "text/html": [
       "<div>\n",
       "<table border=\"1\" class=\"dataframe\">\n",
       "  <thead>\n",
       "    <tr style=\"text-align: right;\">\n",
       "      <th></th>\n",
       "      <th>POPULATION</th>\n",
       "    </tr>\n",
       "  </thead>\n",
       "  <tbody>\n",
       "    <tr>\n",
       "      <th>count</th>\n",
       "      <td>32989.000000</td>\n",
       "    </tr>\n",
       "    <tr>\n",
       "      <th>mean</th>\n",
       "      <td>9443.177453</td>\n",
       "    </tr>\n",
       "    <tr>\n",
       "      <th>std</th>\n",
       "      <td>13858.010530</td>\n",
       "    </tr>\n",
       "    <tr>\n",
       "      <th>min</th>\n",
       "      <td>0.000000</td>\n",
       "    </tr>\n",
       "    <tr>\n",
       "      <th>25%</th>\n",
       "      <td>719.000000</td>\n",
       "    </tr>\n",
       "    <tr>\n",
       "      <th>50%</th>\n",
       "      <td>2781.000000</td>\n",
       "    </tr>\n",
       "    <tr>\n",
       "      <th>75%</th>\n",
       "      <td>12830.000000</td>\n",
       "    </tr>\n",
       "    <tr>\n",
       "      <th>max</th>\n",
       "      <td>114734.000000</td>\n",
       "    </tr>\n",
       "  </tbody>\n",
       "</table>\n",
       "</div>"
      ],
      "text/plain": [
       "          POPULATION\n",
       "count   32989.000000\n",
       "mean     9443.177453\n",
       "std     13858.010530\n",
       "min         0.000000\n",
       "25%       719.000000\n",
       "50%      2781.000000\n",
       "75%     12830.000000\n",
       "max    114734.000000"
      ]
     },
     "execution_count": 3,
     "metadata": {},
     "output_type": "execute_result"
    }
   ],
   "source": [
    "pop_df.describe()"
   ]
  },
  {
   "cell_type": "markdown",
   "metadata": {},
   "source": [
    "### Zip codes with more than 100,000 persons"
   ]
  },
  {
   "cell_type": "code",
   "execution_count": 4,
   "metadata": {
    "collapsed": false
   },
   "outputs": [
    {
     "data": {
      "text/html": [
       "<div>\n",
       "<table border=\"1\" class=\"dataframe\">\n",
       "  <thead>\n",
       "    <tr style=\"text-align: right;\">\n",
       "      <th></th>\n",
       "      <th>POPULATION</th>\n",
       "    </tr>\n",
       "  </thead>\n",
       "  <tbody>\n",
       "    <tr>\n",
       "      <th>count</th>\n",
       "      <td>8.000000</td>\n",
       "    </tr>\n",
       "    <tr>\n",
       "      <th>mean</th>\n",
       "      <td>106113.375000</td>\n",
       "    </tr>\n",
       "    <tr>\n",
       "      <th>std</th>\n",
       "      <td>5637.521642</td>\n",
       "    </tr>\n",
       "    <tr>\n",
       "      <th>min</th>\n",
       "      <td>100535.000000</td>\n",
       "    </tr>\n",
       "    <tr>\n",
       "      <th>25%</th>\n",
       "      <td>101669.500000</td>\n",
       "    </tr>\n",
       "    <tr>\n",
       "      <th>50%</th>\n",
       "      <td>104514.500000</td>\n",
       "    </tr>\n",
       "    <tr>\n",
       "      <th>75%</th>\n",
       "      <td>109429.750000</td>\n",
       "    </tr>\n",
       "    <tr>\n",
       "      <th>max</th>\n",
       "      <td>114734.000000</td>\n",
       "    </tr>\n",
       "  </tbody>\n",
       "</table>\n",
       "</div>"
      ],
      "text/plain": [
       "          POPULATION\n",
       "count       8.000000\n",
       "mean   106113.375000\n",
       "std      5637.521642\n",
       "min    100535.000000\n",
       "25%    101669.500000\n",
       "50%    104514.500000\n",
       "75%    109429.750000\n",
       "max    114734.000000"
      ]
     },
     "execution_count": 4,
     "metadata": {},
     "output_type": "execute_result"
    }
   ],
   "source": [
    "highpop_df = pop_df [(pop_df.POPULATION > 100000)]\n",
    "highpop_df.describe()"
   ]
  },
  {
   "cell_type": "markdown",
   "metadata": {},
   "source": [
    "### Put it into CartoDB"
   ]
  },
  {
   "cell_type": "code",
   "execution_count": 5,
   "metadata": {
    "collapsed": true
   },
   "outputs": [],
   "source": [
    "#uncomment this line on first run to install the cartodb Python module\n",
    "!pip install --user cartodb\n",
    "# Set up cartodb module for use\n",
    "from cartodb import CartoDBAPIKey, CartoDBException\n",
    "API_KEY = 'yourapikeyhere'\n",
    "CARTODB_ACCOUNT = 'yourcartodbusernamehere'\n",
    "cl = CartoDBAPIKey(API_KEY, CARTODB_ACCOUNT)"
   ]
  },
  {
   "cell_type": "code",
   "execution_count": 6,
   "metadata": {
    "collapsed": true
   },
   "outputs": [],
   "source": [
    "# output high population zips to a list\n",
    "ziplist = highpop_df.index.tolist()"
   ]
  },
  {
   "cell_type": "code",
   "execution_count": 7,
   "metadata": {
    "collapsed": false
   },
   "outputs": [],
   "source": [
    "updatesql = 'UPDATE zips SET showme = FALSE;'\n",
    "updatesql += ';'.join(map(lambda x: \"UPDATE zips SET showme = TRUE WHERE ge000id LIKE '%s'\" %x, ziplist))"
   ]
  },
  {
   "cell_type": "code",
   "execution_count": 8,
   "metadata": {
    "collapsed": false
   },
   "outputs": [
    {
     "data": {
      "text/plain": [
       "\"UPDATE zips SET showme = FALSE;UPDATE zips SET showme = TRUE WHERE ge000id LIKE '86000US11220';UPDATE zips SET showme = TRUE WHERE ge000id LIKE '86000US11368';UPDATE zips SET showme = TRUE WHERE ge000id LIKE '86000US60629';UPDATE zips SET showme = TRUE WHERE ge000id LIKE '86000US79936';UPDATE zips SET showme = TRUE WHERE ge000id LIKE '86000US90011';UPDATE zips SET showme = TRUE WHERE ge000id LIKE '86000US90201';UPDATE zips SET showme = TRUE WHERE ge000id LIKE '86000US90650';UPDATE zips SET showme = TRUE WHERE ge000id LIKE '86000US91331'\""
      ]
     },
     "execution_count": 8,
     "metadata": {},
     "output_type": "execute_result"
    }
   ],
   "source": [
    "updatesql"
   ]
  },
  {
   "cell_type": "code",
   "execution_count": 9,
   "metadata": {
    "collapsed": false
   },
   "outputs": [
    {
     "name": "stdout",
     "output_type": "stream",
     "text": [
      "{u'fields': {}, u'rows': [], u'total_rows': 1, u'time': 9.149}\n"
     ]
    }
   ],
   "source": [
    "try:\n",
    "    print(cl.sql(updatesql))\n",
    "except CartoDBException as e:\n",
    "    print(\"some error ocurred\", e)"
   ]
  },
  {
   "cell_type": "code",
   "execution_count": 10,
   "metadata": {
    "collapsed": false
   },
   "outputs": [
    {
     "data": {
      "application/javascript": [
       "element.append('<link rel=\"stylesheet\" href=\"https://libs.cartocdn.com/cartodb.js/v3/3.15/themes/css/cartodb.css\" />');\n",
       "element.append('<h2>Selected zip codes</h2>');\n",
       "element.append('<div id=\"map\" style=\"height:450px;width:768px;padding:0;margin:0\"></div>');\n",
       "\n",
       "require.config({\n",
       "  paths: {\n",
       "      cartodblib: 'https://libs.cartocdn.com/cartodb.js/v3/3.15/cartodb'\n",
       "  }\n",
       "});\n",
       "\n",
       "var main = function() {\n",
       "  cartodb.createVis('map', 'https://rajrsingh.cartodb.com/api/v2/viz/3e4b46a4-3ed3-11e6-bbbe-0e3a376473ab/viz.json', {\n",
       "      shareable: true,title: true,description: true,search: true,tiles_loader: true,\n",
       "      center_lat: 40, center_lon: -100, zoom: 3\n",
       "  })\n",
       "  .done(function(vis, layers) {\n",
       "    // layer 0 is the base layer, layer 1 is cartodb layer\n",
       "    layers[1].setInteraction(true);\n",
       "    layers[1].on('featureOver', function(e, latlng, pos, data) {\n",
       "      cartodb.log.log(e, latlng, pos, data);\n",
       "    });\n",
       "    var map = vis.getNativeMap(); // get the native map to work with it\n",
       "  })\n",
       "  .error(function(err) {\n",
       "    console.log(err);\n",
       "  });\n",
       "}\n",
       "\n",
       "require(['cartodblib'], main);"
      ],
      "text/plain": [
       "<IPython.core.display.Javascript object>"
      ]
     },
     "metadata": {},
     "output_type": "display_data"
    }
   ],
   "source": [
    "%%javascript\n",
    "element.append('<link rel=\"stylesheet\" href=\"https://libs.cartocdn.com/cartodb.js/v3/3.15/themes/css/cartodb.css\" />');\n",
    "element.append('<h2>Selected zip codes</h2>');\n",
    "element.append('<div id=\"map\" style=\"height:450px;width:768px;padding:0;margin:0\"></div>');\n",
    "\n",
    "require.config({\n",
    "  paths: {\n",
    "      cartodblib: 'https://libs.cartocdn.com/cartodb.js/v3/3.15/cartodb'\n",
    "  }\n",
    "});\n",
    "\n",
    "var main = function() {\n",
    "  cartodb.createVis('map', 'https://rajrsingh.cartodb.com/api/v2/viz/3e4b46a4-3ed3-11e6-bbbe-0e3a376473ab/viz.json', {\n",
    "      shareable: true,title: true,description: true,search: true,tiles_loader: true,\n",
    "      center_lat: 40, center_lon: -100, zoom: 3\n",
    "  })\n",
    "  .done(function(vis, layers) {\n",
    "    // layer 0 is the base layer, layer 1 is cartodb layer\n",
    "    layers[1].setInteraction(true);\n",
    "    layers[1].on('featureOver', function(e, latlng, pos, data) {\n",
    "      cartodb.log.log(e, latlng, pos, data);\n",
    "    });\n",
    "    var map = vis.getNativeMap(); // get the native map to work with it\n",
    "  })\n",
    "  .error(function(err) {\n",
    "    console.log(err);\n",
    "  });\n",
    "}\n",
    "\n",
    "require(['cartodblib'], main);"
   ]
  }
 ],
 "metadata": {
  "kernelspec": {
   "display_name": "Python 2",
   "language": "python",
   "name": "python2"
  },
  "language_info": {
   "codemirror_mode": {
    "name": "ipython",
    "version": 2
   },
   "file_extension": ".py",
   "mimetype": "text/x-python",
   "name": "python",
   "nbconvert_exporter": "python",
   "pygments_lexer": "ipython2",
   "version": "2.7.11"
  }
 },
 "nbformat": 4,
 "nbformat_minor": 0
}
