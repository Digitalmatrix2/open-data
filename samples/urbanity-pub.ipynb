{
 "cells": [
  {
   "cell_type": "markdown",
   "metadata": {
    "collapsed": true
   },
   "source": [
    "# Categorizing urban density\n",
    "\n",
    "last modified: February, 2016\n",
    "\n",
    "author: [Raj Singh](https://developer.ibm.com/clouddataservices/author/rrsingh/)\n",
    "\n",
    "original: https://github.com/ibm-cds-labs/open-data/blob/master/samples/urbanity.ipynb\n",
    "\n",
    "\n",
    "## Overview\n",
    "\n",
    "Exploration of an academic study of urban structure and density described in the June 2014 article, [\"From Jurisdictional to Functional Analysis of Urban Cores & Suburbs\"](http://www.newgeography.com/content/004349-from-jurisdictional-functional-analysis-urban-cores-suburbs) in [new geography](http://www.newgeography.com/). \n",
    "\n",
    "## Categories\n",
    "\n",
    "- Urban (pre-auto urban core): density > 2,900 sq. km\n",
    "- Auto suburban, early: median house built 1946 to 1979, density < 2,900 sq. km and density > 100 sq. km\n",
    "- Auto suburban, later: median house built after 1979, density < 2,900 sq. km and density > 100 sq. km\n",
    "- Auto exurban: all others\n"
   ]
  },
  {
   "cell_type": "code",
   "execution_count": 4,
   "metadata": {
    "collapsed": true
   },
   "outputs": [],
   "source": [
    "import pandas as pd, numpy as np, os"
   ]
  },
  {
   "cell_type": "markdown",
   "metadata": {},
   "source": [
    "## Collect U.S. Census data\n",
    "\n",
    "Census data from the 2013 US Census American Community Survey (ACS), 5-year estimates.\n",
    "\n",
    "Created from the \"zip code tabulation area\" (ZCTA) [TIGER/Line® with Selected Demographic and Economic Data product in Geodatabase format](http://www.census.gov/geo/maps-data/data/tiger-data.html). This particular version of the ACS is used for the folowing reasons:\n",
    "\n",
    "1. 5-year estimates are the most accurate data outside of the decennial census [as explained here](http://www.census.gov/programs-surveys/acs/guidance/estimates.html).\n",
    "1. 2013 is the most recent data set with 5-year estimates\n",
    "1. TIGER/Line® gives you the geographic boundaries of the zip codes so you can perform spatial analyses\n",
    "1. This data set is smaller than the full Census, but still has the important income, education, race, age and occupation demographics we want to use.\n",
    "\n",
    "If you want to do this yourself, [this article](https://developer.ibm.com/clouddataservices/2015/09/08/census-open-data-on-ibm-cloud/) explains how to get a CSV out of that format.\n",
    "\n",
    "### Accessing Census files\n",
    "\n",
    "Access the files mentioned here via the [IBM Analytics Exchange](https://console.ng.bluemix.net/data/exchange/). You can get your free, individual \"API key\" on each data set's detail page:\n",
    " \n",
    "- [Zip code areas](https://console.ng.bluemix.net/data/exchange/public/e/united-states-demographic-measures-land)\n",
    "- [Age](https://console.ng.bluemix.net/data/exchange/public/e/united-states-demographic-measures-age)\n",
    "- [Housing](https://console.ng.bluemix.net/data/exchange/public/e/united-states-demographic-measures-housing)\n",
    "\n",
    "After getting your API key (your personal URL for the data file), in this script replace, for example, `os.environ['AE_KEY_AGE']` with your URL for the Age data CSV file.\n"
   ]
  },
  {
   "cell_type": "markdown",
   "metadata": {},
   "source": [
    "### Get zip code areas from Census"
   ]
  },
  {
   "cell_type": "code",
   "execution_count": 5,
   "metadata": {
    "collapsed": false
   },
   "outputs": [
    {
     "data": {
      "text/html": [
       "<div>\n",
       "<table border=\"1\" class=\"dataframe\">\n",
       "  <thead>\n",
       "    <tr style=\"text-align: right;\">\n",
       "      <th></th>\n",
       "      <th>ALAND10</th>\n",
       "    </tr>\n",
       "    <tr>\n",
       "      <th>GEOID</th>\n",
       "      <th></th>\n",
       "    </tr>\n",
       "  </thead>\n",
       "  <tbody>\n",
       "    <tr>\n",
       "      <th>86000US43451</th>\n",
       "      <td>63411475</td>\n",
       "    </tr>\n",
       "    <tr>\n",
       "      <th>86000US43452</th>\n",
       "      <td>121783680</td>\n",
       "    </tr>\n",
       "    <tr>\n",
       "      <th>86000US43456</th>\n",
       "      <td>9389360</td>\n",
       "    </tr>\n",
       "    <tr>\n",
       "      <th>86000US43457</th>\n",
       "      <td>48035540</td>\n",
       "    </tr>\n",
       "    <tr>\n",
       "      <th>86000US43458</th>\n",
       "      <td>2573816</td>\n",
       "    </tr>\n",
       "  </tbody>\n",
       "</table>\n",
       "</div>"
      ],
      "text/plain": [
       "                ALAND10\n",
       "GEOID                  \n",
       "86000US43451   63411475\n",
       "86000US43452  121783680\n",
       "86000US43456    9389360\n",
       "86000US43457   48035540\n",
       "86000US43458    2573816"
      ]
     },
     "execution_count": 5,
     "metadata": {},
     "output_type": "execute_result"
    }
   ],
   "source": [
    "geo_df = pd.read_csv( os.environ['AE_KEY_LAND'], usecols=['GEOID','ALAND10'], dtype={\"GEOID10\": np.str} )\n",
    "geo_df = geo_df.set_index('GEOID')\n",
    "geo_df.head()"
   ]
  },
  {
   "cell_type": "markdown",
   "metadata": {},
   "source": [
    "### Get population from Census"
   ]
  },
  {
   "cell_type": "code",
   "execution_count": 10,
   "metadata": {
    "collapsed": false
   },
   "outputs": [
    {
     "data": {
      "text/html": [
       "<div>\n",
       "<table border=\"1\" class=\"dataframe\">\n",
       "  <thead>\n",
       "    <tr style=\"text-align: right;\">\n",
       "      <th></th>\n",
       "      <th>POPULATION</th>\n",
       "    </tr>\n",
       "    <tr>\n",
       "      <th>GEOID</th>\n",
       "      <th></th>\n",
       "    </tr>\n",
       "  </thead>\n",
       "  <tbody>\n",
       "    <tr>\n",
       "      <th>86000US01001</th>\n",
       "      <td>17245</td>\n",
       "    </tr>\n",
       "    <tr>\n",
       "      <th>86000US01002</th>\n",
       "      <td>29266</td>\n",
       "    </tr>\n",
       "    <tr>\n",
       "      <th>86000US01003</th>\n",
       "      <td>11032</td>\n",
       "    </tr>\n",
       "    <tr>\n",
       "      <th>86000US01005</th>\n",
       "      <td>5356</td>\n",
       "    </tr>\n",
       "    <tr>\n",
       "      <th>86000US01007</th>\n",
       "      <td>14673</td>\n",
       "    </tr>\n",
       "  </tbody>\n",
       "</table>\n",
       "</div>"
      ],
      "text/plain": [
       "              POPULATION\n",
       "GEOID                   \n",
       "86000US01001       17245\n",
       "86000US01002       29266\n",
       "86000US01003       11032\n",
       "86000US01005        5356\n",
       "86000US01007       14673"
      ]
     },
     "execution_count": 10,
     "metadata": {},
     "output_type": "execute_result"
    }
   ],
   "source": [
    "pop_df = pd.read_csv( os.environ['AE_KEY_AGE'], usecols=['GEOID','B01001e1'], dtype={\"GEOID\": np.str} )\n",
    "pop_df.columns = ['GEOID','POPULATION']\n",
    "pop_df = pop_df.set_index('GEOID')\n",
    "pop_df.head()"
   ]
  },
  {
   "cell_type": "markdown",
   "metadata": {},
   "source": [
    "### Get housing age from Census\n",
    "NOTE: this is a large 210Mb file and may take a few minutes to load"
   ]
  },
  {
   "cell_type": "code",
   "execution_count": 16,
   "metadata": {
    "collapsed": false
   },
   "outputs": [
    {
     "data": {
      "text/html": [
       "<div>\n",
       "<table border=\"1\" class=\"dataframe\">\n",
       "  <thead>\n",
       "    <tr style=\"text-align: right;\">\n",
       "      <th></th>\n",
       "      <th>B25035e1</th>\n",
       "    </tr>\n",
       "    <tr>\n",
       "      <th>GEOID</th>\n",
       "      <th></th>\n",
       "    </tr>\n",
       "  </thead>\n",
       "  <tbody>\n",
       "    <tr>\n",
       "      <th>86000US80239</th>\n",
       "      <td>1985.0</td>\n",
       "    </tr>\n",
       "    <tr>\n",
       "      <th>86000US95658</th>\n",
       "      <td>1977.0</td>\n",
       "    </tr>\n",
       "    <tr>\n",
       "      <th>86000US50248</th>\n",
       "      <td>1972.0</td>\n",
       "    </tr>\n",
       "    <tr>\n",
       "      <th>86000US66053</th>\n",
       "      <td>1991.0</td>\n",
       "    </tr>\n",
       "    <tr>\n",
       "      <th>86000US20565</th>\n",
       "      <td>NaN</td>\n",
       "    </tr>\n",
       "  </tbody>\n",
       "</table>\n",
       "</div>"
      ],
      "text/plain": [
       "              B25035e1\n",
       "GEOID                 \n",
       "86000US80239    1985.0\n",
       "86000US95658    1977.0\n",
       "86000US50248    1972.0\n",
       "86000US66053    1991.0\n",
       "86000US20565       NaN"
      ]
     },
     "execution_count": 16,
     "metadata": {},
     "output_type": "execute_result"
    }
   ],
   "source": [
    "housing_df = pd.read_csv( os.environ['AE_KEY_HOUSING'], usecols=['GEOID','B25035e1'], dtype={\"GEOID\": np.str} )\n",
    "housing_df = housing_df.set_index('GEOID')\n",
    "housing_df.sample(5)"
   ]
  },
  {
   "cell_type": "markdown",
   "metadata": {},
   "source": [
    "### Join Census data into one DataFrame with nice names"
   ]
  },
  {
   "cell_type": "code",
   "execution_count": 17,
   "metadata": {
    "collapsed": false
   },
   "outputs": [
    {
     "data": {
      "text/html": [
       "<div>\n",
       "<table border=\"1\" class=\"dataframe\">\n",
       "  <thead>\n",
       "    <tr style=\"text-align: right;\">\n",
       "      <th></th>\n",
       "      <th>ALAND10</th>\n",
       "      <th>POPULATION</th>\n",
       "      <th>B25035e1</th>\n",
       "    </tr>\n",
       "    <tr>\n",
       "      <th>GEOID</th>\n",
       "      <th></th>\n",
       "      <th></th>\n",
       "      <th></th>\n",
       "    </tr>\n",
       "  </thead>\n",
       "  <tbody>\n",
       "    <tr>\n",
       "      <th>86000US48105</th>\n",
       "      <td>129210899</td>\n",
       "      <td>33729</td>\n",
       "      <td>1978.0</td>\n",
       "    </tr>\n",
       "    <tr>\n",
       "      <th>86000US16154</th>\n",
       "      <td>67464645</td>\n",
       "      <td>2780</td>\n",
       "      <td>1973.0</td>\n",
       "    </tr>\n",
       "    <tr>\n",
       "      <th>86000US86426</th>\n",
       "      <td>93845807</td>\n",
       "      <td>13902</td>\n",
       "      <td>1998.0</td>\n",
       "    </tr>\n",
       "    <tr>\n",
       "      <th>86000US53503</th>\n",
       "      <td>146106994</td>\n",
       "      <td>1894</td>\n",
       "      <td>1980.0</td>\n",
       "    </tr>\n",
       "    <tr>\n",
       "      <th>86000US24604</th>\n",
       "      <td>10567313</td>\n",
       "      <td>643</td>\n",
       "      <td>1971.0</td>\n",
       "    </tr>\n",
       "  </tbody>\n",
       "</table>\n",
       "</div>"
      ],
      "text/plain": [
       "                ALAND10  POPULATION  B25035e1\n",
       "GEOID                                        \n",
       "86000US48105  129210899       33729    1978.0\n",
       "86000US16154   67464645        2780    1973.0\n",
       "86000US86426   93845807       13902    1998.0\n",
       "86000US53503  146106994        1894    1980.0\n",
       "86000US24604   10567313         643    1971.0"
      ]
     },
     "execution_count": 17,
     "metadata": {},
     "output_type": "execute_result"
    }
   ],
   "source": [
    "urban_df = geo_df.join(pop_df)\n",
    "urban_df = urban_df.join(housing_df)\n",
    "urban_df.sample(5)"
   ]
  },
  {
   "cell_type": "code",
   "execution_count": 18,
   "metadata": {
    "collapsed": false
   },
   "outputs": [
    {
     "data": {
      "text/html": [
       "<div>\n",
       "<table border=\"1\" class=\"dataframe\">\n",
       "  <thead>\n",
       "    <tr style=\"text-align: right;\">\n",
       "      <th></th>\n",
       "      <th>AREAMSQ</th>\n",
       "      <th>Population</th>\n",
       "      <th>MEDYRBUILT</th>\n",
       "    </tr>\n",
       "    <tr>\n",
       "      <th>GEOID</th>\n",
       "      <th></th>\n",
       "      <th></th>\n",
       "      <th></th>\n",
       "    </tr>\n",
       "  </thead>\n",
       "  <tbody>\n",
       "    <tr>\n",
       "      <th>86000US95005</th>\n",
       "      <td>30929061</td>\n",
       "      <td>6168</td>\n",
       "      <td>1965.0</td>\n",
       "    </tr>\n",
       "    <tr>\n",
       "      <th>86000US32827</th>\n",
       "      <td>60494466</td>\n",
       "      <td>6576</td>\n",
       "      <td>NaN</td>\n",
       "    </tr>\n",
       "    <tr>\n",
       "      <th>86000US87543</th>\n",
       "      <td>52008262</td>\n",
       "      <td>535</td>\n",
       "      <td>1939.0</td>\n",
       "    </tr>\n",
       "    <tr>\n",
       "      <th>86000US59851</th>\n",
       "      <td>558857</td>\n",
       "      <td>254</td>\n",
       "      <td>1939.0</td>\n",
       "    </tr>\n",
       "    <tr>\n",
       "      <th>86000US48133</th>\n",
       "      <td>69548569</td>\n",
       "      <td>5560</td>\n",
       "      <td>1972.0</td>\n",
       "    </tr>\n",
       "  </tbody>\n",
       "</table>\n",
       "</div>"
      ],
      "text/plain": [
       "               AREAMSQ  Population  MEDYRBUILT\n",
       "GEOID                                         \n",
       "86000US95005  30929061        6168      1965.0\n",
       "86000US32827  60494466        6576         NaN\n",
       "86000US87543  52008262         535      1939.0\n",
       "86000US59851    558857         254      1939.0\n",
       "86000US48133  69548569        5560      1972.0"
      ]
     },
     "execution_count": 18,
     "metadata": {},
     "output_type": "execute_result"
    }
   ],
   "source": [
    "urban_df.columns = ['AREAMSQ','Population','MEDYRBUILT']\n",
    "urban_df.sample(5)"
   ]
  },
  {
   "cell_type": "markdown",
   "metadata": {},
   "source": [
    "## Density calculation\n",
    "\n",
    "- persons per square km = persons / (area in square meters / 1,000,000)\n",
    "- persons per hectare = persons / (area in square meters / 10,000)"
   ]
  },
  {
   "cell_type": "markdown",
   "metadata": {},
   "source": [
    "### Compute population density as persons per square kilometer"
   ]
  },
  {
   "cell_type": "code",
   "execution_count": 19,
   "metadata": {
    "collapsed": false
   },
   "outputs": [
    {
     "data": {
      "text/html": [
       "<div>\n",
       "<table border=\"1\" class=\"dataframe\">\n",
       "  <thead>\n",
       "    <tr style=\"text-align: right;\">\n",
       "      <th></th>\n",
       "      <th>AREAMSQ</th>\n",
       "      <th>Population</th>\n",
       "      <th>MEDYRBUILT</th>\n",
       "      <th>POPPERKMSQ</th>\n",
       "    </tr>\n",
       "    <tr>\n",
       "      <th>GEOID</th>\n",
       "      <th></th>\n",
       "      <th></th>\n",
       "      <th></th>\n",
       "      <th></th>\n",
       "    </tr>\n",
       "  </thead>\n",
       "  <tbody>\n",
       "    <tr>\n",
       "      <th>86000US35016</th>\n",
       "      <td>192558438</td>\n",
       "      <td>17245</td>\n",
       "      <td>1982.0</td>\n",
       "      <td>89.557228</td>\n",
       "    </tr>\n",
       "    <tr>\n",
       "      <th>86000US96137</th>\n",
       "      <td>125380322</td>\n",
       "      <td>3826</td>\n",
       "      <td>1979.0</td>\n",
       "      <td>30.515155</td>\n",
       "    </tr>\n",
       "    <tr>\n",
       "      <th>86000US38343</th>\n",
       "      <td>358833001</td>\n",
       "      <td>15792</td>\n",
       "      <td>1972.0</td>\n",
       "      <td>44.009330</td>\n",
       "    </tr>\n",
       "    <tr>\n",
       "      <th>86000US67646</th>\n",
       "      <td>444281421</td>\n",
       "      <td>630</td>\n",
       "      <td>1951.0</td>\n",
       "      <td>1.418020</td>\n",
       "    </tr>\n",
       "  </tbody>\n",
       "</table>\n",
       "</div>"
      ],
      "text/plain": [
       "                AREAMSQ  Population  MEDYRBUILT  POPPERKMSQ\n",
       "GEOID                                                      \n",
       "86000US35016  192558438       17245      1982.0   89.557228\n",
       "86000US96137  125380322        3826      1979.0   30.515155\n",
       "86000US38343  358833001       15792      1972.0   44.009330\n",
       "86000US67646  444281421         630      1951.0    1.418020"
      ]
     },
     "execution_count": 19,
     "metadata": {},
     "output_type": "execute_result"
    }
   ],
   "source": [
    "urban_df['POPPERKMSQ'] = urban_df['Population'] / (urban_df['AREAMSQ']/1000000)\n",
    "urban_df.sample(4)"
   ]
  },
  {
   "cell_type": "markdown",
   "metadata": {},
   "source": [
    "### Group population density into 4 categories"
   ]
  },
  {
   "cell_type": "code",
   "execution_count": 20,
   "metadata": {
    "collapsed": false
   },
   "outputs": [
    {
     "name": "stderr",
     "output_type": "stream",
     "text": [
      "/Users/rajrsingh/anaconda/lib/python2.7/site-packages/ipykernel/__main__.py:2: SettingWithCopyWarning: \n",
      "A value is trying to be set on a copy of a slice from a DataFrame\n",
      "\n",
      "See the caveats in the documentation: http://pandas.pydata.org/pandas-docs/stable/indexing.html#indexing-view-versus-copy\n",
      "  from ipykernel import kernelapp as app\n",
      "/Users/rajrsingh/anaconda/lib/python2.7/site-packages/ipykernel/__main__.py:3: SettingWithCopyWarning: \n",
      "A value is trying to be set on a copy of a slice from a DataFrame\n",
      "\n",
      "See the caveats in the documentation: http://pandas.pydata.org/pandas-docs/stable/indexing.html#indexing-view-versus-copy\n",
      "  app.launch_new_instance()\n",
      "/Users/rajrsingh/anaconda/lib/python2.7/site-packages/ipykernel/__main__.py:4: SettingWithCopyWarning: \n",
      "A value is trying to be set on a copy of a slice from a DataFrame\n",
      "\n",
      "See the caveats in the documentation: http://pandas.pydata.org/pandas-docs/stable/indexing.html#indexing-view-versus-copy\n",
      "/Users/rajrsingh/anaconda/lib/python2.7/site-packages/numpy/lib/function_base.py:3403: RuntimeWarning: Invalid value encountered in median\n",
      "  RuntimeWarning)\n"
     ]
    },
    {
     "data": {
      "text/html": [
       "<div>\n",
       "<table border=\"1\" class=\"dataframe\">\n",
       "  <thead>\n",
       "    <tr style=\"text-align: right;\">\n",
       "      <th></th>\n",
       "      <th>AREAMSQ</th>\n",
       "      <th>Population</th>\n",
       "      <th>MEDYRBUILT</th>\n",
       "      <th>POPPERKMSQ</th>\n",
       "    </tr>\n",
       "  </thead>\n",
       "  <tbody>\n",
       "    <tr>\n",
       "      <th>count</th>\n",
       "      <td>3.298900e+04</td>\n",
       "      <td>32989.000000</td>\n",
       "      <td>32045.000000</td>\n",
       "      <td>32989.000000</td>\n",
       "    </tr>\n",
       "    <tr>\n",
       "      <th>mean</th>\n",
       "      <td>2.250019e+08</td>\n",
       "      <td>9443.177453</td>\n",
       "      <td>1971.068529</td>\n",
       "      <td>487.703913</td>\n",
       "    </tr>\n",
       "    <tr>\n",
       "      <th>std</th>\n",
       "      <td>6.575933e+08</td>\n",
       "      <td>13858.010530</td>\n",
       "      <td>15.606758</td>\n",
       "      <td>1912.093435</td>\n",
       "    </tr>\n",
       "    <tr>\n",
       "      <th>min</th>\n",
       "      <td>5.094000e+03</td>\n",
       "      <td>0.000000</td>\n",
       "      <td>1939.000000</td>\n",
       "      <td>0.000000</td>\n",
       "    </tr>\n",
       "    <tr>\n",
       "      <th>25%</th>\n",
       "      <td>2.351832e+07</td>\n",
       "      <td>719.000000</td>\n",
       "      <td>NaN</td>\n",
       "      <td>7.754449</td>\n",
       "    </tr>\n",
       "    <tr>\n",
       "      <th>50%</th>\n",
       "      <td>9.322068e+07</td>\n",
       "      <td>2781.000000</td>\n",
       "      <td>NaN</td>\n",
       "      <td>30.194351</td>\n",
       "    </tr>\n",
       "    <tr>\n",
       "      <th>75%</th>\n",
       "      <td>2.304373e+08</td>\n",
       "      <td>12830.000000</td>\n",
       "      <td>NaN</td>\n",
       "      <td>249.247358</td>\n",
       "    </tr>\n",
       "    <tr>\n",
       "      <th>max</th>\n",
       "      <td>3.478591e+10</td>\n",
       "      <td>114734.000000</td>\n",
       "      <td>2011.000000</td>\n",
       "      <td>71226.281507</td>\n",
       "    </tr>\n",
       "  </tbody>\n",
       "</table>\n",
       "</div>"
      ],
      "text/plain": [
       "            AREAMSQ     Population    MEDYRBUILT    POPPERKMSQ\n",
       "count  3.298900e+04   32989.000000  32045.000000  32989.000000\n",
       "mean   2.250019e+08    9443.177453   1971.068529    487.703913\n",
       "std    6.575933e+08   13858.010530     15.606758   1912.093435\n",
       "min    5.094000e+03       0.000000   1939.000000      0.000000\n",
       "25%    2.351832e+07     719.000000           NaN      7.754449\n",
       "50%    9.322068e+07    2781.000000           NaN     30.194351\n",
       "75%    2.304373e+08   12830.000000           NaN    249.247358\n",
       "max    3.478591e+10  114734.000000   2011.000000  71226.281507"
      ]
     },
     "execution_count": 20,
     "metadata": {},
     "output_type": "execute_result"
    }
   ],
   "source": [
    "urban_df['CAT'] = 'EXURBAN'\n",
    "urban_df['CAT'][(urban_df['POPPERKMSQ'] >= 2900)] = 'URBAN'\n",
    "urban_df['CAT'][(urban_df['POPPERKMSQ'] < 2900) & (urban_df['POPPERKMSQ'] >= 100) & (urban_df['MEDYRBUILT'] < 1980) & (urban_df['MEDYRBUILT'] >= 1946)] = 'SUBURBANEARLY'\n",
    "urban_df['CAT'][(urban_df['POPPERKMSQ'] < 2900) & (urban_df['POPPERKMSQ'] >= 100) & (urban_df['MEDYRBUILT'] >= 1980)] = 'SUBURBANLATE'\n",
    "urban_df.describe()"
   ]
  },
  {
   "cell_type": "code",
   "execution_count": 21,
   "metadata": {
    "collapsed": false
   },
   "outputs": [
    {
     "data": {
      "text/html": [
       "<div>\n",
       "<table border=\"1\" class=\"dataframe\">\n",
       "  <thead>\n",
       "    <tr style=\"text-align: right;\">\n",
       "      <th></th>\n",
       "      <th>AREAMSQ</th>\n",
       "      <th>Population</th>\n",
       "      <th>MEDYRBUILT</th>\n",
       "      <th>POPPERKMSQ</th>\n",
       "      <th>CAT</th>\n",
       "    </tr>\n",
       "    <tr>\n",
       "      <th>GEOID</th>\n",
       "      <th></th>\n",
       "      <th></th>\n",
       "      <th></th>\n",
       "      <th></th>\n",
       "      <th></th>\n",
       "    </tr>\n",
       "  </thead>\n",
       "  <tbody>\n",
       "    <tr>\n",
       "      <th>86000US43084</th>\n",
       "      <td>55869832</td>\n",
       "      <td>854</td>\n",
       "      <td>1947.0</td>\n",
       "      <td>15.285530</td>\n",
       "      <td>EXURBAN</td>\n",
       "    </tr>\n",
       "    <tr>\n",
       "      <th>86000US23480</th>\n",
       "      <td>5001165</td>\n",
       "      <td>273</td>\n",
       "      <td>1949.0</td>\n",
       "      <td>54.587281</td>\n",
       "      <td>EXURBAN</td>\n",
       "    </tr>\n",
       "    <tr>\n",
       "      <th>86000US44321</th>\n",
       "      <td>39417067</td>\n",
       "      <td>14933</td>\n",
       "      <td>1986.0</td>\n",
       "      <td>378.846047</td>\n",
       "      <td>SUBURBANLATE</td>\n",
       "    </tr>\n",
       "    <tr>\n",
       "      <th>86000US60551</th>\n",
       "      <td>149406633</td>\n",
       "      <td>4779</td>\n",
       "      <td>1982.0</td>\n",
       "      <td>31.986532</td>\n",
       "      <td>EXURBAN</td>\n",
       "    </tr>\n",
       "    <tr>\n",
       "      <th>86000US75103</th>\n",
       "      <td>516577037</td>\n",
       "      <td>13103</td>\n",
       "      <td>1981.0</td>\n",
       "      <td>25.365045</td>\n",
       "      <td>EXURBAN</td>\n",
       "    </tr>\n",
       "    <tr>\n",
       "      <th>86000US25414</th>\n",
       "      <td>141470974</td>\n",
       "      <td>17147</td>\n",
       "      <td>1986.0</td>\n",
       "      <td>121.205075</td>\n",
       "      <td>SUBURBANLATE</td>\n",
       "    </tr>\n",
       "    <tr>\n",
       "      <th>86000US37210</th>\n",
       "      <td>23936536</td>\n",
       "      <td>15071</td>\n",
       "      <td>1964.0</td>\n",
       "      <td>629.623267</td>\n",
       "      <td>SUBURBANEARLY</td>\n",
       "    </tr>\n",
       "    <tr>\n",
       "      <th>86000US11560</th>\n",
       "      <td>19430271</td>\n",
       "      <td>6534</td>\n",
       "      <td>1954.0</td>\n",
       "      <td>336.279406</td>\n",
       "      <td>SUBURBANEARLY</td>\n",
       "    </tr>\n",
       "    <tr>\n",
       "      <th>86000US49458</th>\n",
       "      <td>18569991</td>\n",
       "      <td>52</td>\n",
       "      <td>1974.0</td>\n",
       "      <td>2.800217</td>\n",
       "      <td>EXURBAN</td>\n",
       "    </tr>\n",
       "    <tr>\n",
       "      <th>86000US66701</th>\n",
       "      <td>762737340</td>\n",
       "      <td>12130</td>\n",
       "      <td>1957.0</td>\n",
       "      <td>15.903247</td>\n",
       "      <td>EXURBAN</td>\n",
       "    </tr>\n",
       "    <tr>\n",
       "      <th>86000US95651</th>\n",
       "      <td>30057281</td>\n",
       "      <td>451</td>\n",
       "      <td>1984.0</td>\n",
       "      <td>15.004684</td>\n",
       "      <td>EXURBAN</td>\n",
       "    </tr>\n",
       "    <tr>\n",
       "      <th>86000US33981</th>\n",
       "      <td>62871553</td>\n",
       "      <td>9641</td>\n",
       "      <td>1996.0</td>\n",
       "      <td>153.344391</td>\n",
       "      <td>SUBURBANLATE</td>\n",
       "    </tr>\n",
       "    <tr>\n",
       "      <th>86000US70668</th>\n",
       "      <td>372860417</td>\n",
       "      <td>6727</td>\n",
       "      <td>1980.0</td>\n",
       "      <td>18.041604</td>\n",
       "      <td>EXURBAN</td>\n",
       "    </tr>\n",
       "    <tr>\n",
       "      <th>86000US92024</th>\n",
       "      <td>43704640</td>\n",
       "      <td>49048</td>\n",
       "      <td>1978.0</td>\n",
       "      <td>1122.260703</td>\n",
       "      <td>SUBURBANEARLY</td>\n",
       "    </tr>\n",
       "    <tr>\n",
       "      <th>86000US19367</th>\n",
       "      <td>437705</td>\n",
       "      <td>104</td>\n",
       "      <td>1939.0</td>\n",
       "      <td>237.602952</td>\n",
       "      <td>EXURBAN</td>\n",
       "    </tr>\n",
       "    <tr>\n",
       "      <th>86000US17074</th>\n",
       "      <td>164773985</td>\n",
       "      <td>7271</td>\n",
       "      <td>1968.0</td>\n",
       "      <td>44.127111</td>\n",
       "      <td>EXURBAN</td>\n",
       "    </tr>\n",
       "    <tr>\n",
       "      <th>86000US13903</th>\n",
       "      <td>102580962</td>\n",
       "      <td>18737</td>\n",
       "      <td>1952.0</td>\n",
       "      <td>182.655725</td>\n",
       "      <td>SUBURBANEARLY</td>\n",
       "    </tr>\n",
       "    <tr>\n",
       "      <th>86000US49903</th>\n",
       "      <td>480597793</td>\n",
       "      <td>162</td>\n",
       "      <td>1966.0</td>\n",
       "      <td>0.337080</td>\n",
       "      <td>EXURBAN</td>\n",
       "    </tr>\n",
       "    <tr>\n",
       "      <th>86000US59713</th>\n",
       "      <td>426037133</td>\n",
       "      <td>216</td>\n",
       "      <td>1960.0</td>\n",
       "      <td>0.506998</td>\n",
       "      <td>EXURBAN</td>\n",
       "    </tr>\n",
       "    <tr>\n",
       "      <th>86000US95736</th>\n",
       "      <td>649349</td>\n",
       "      <td>278</td>\n",
       "      <td>1959.0</td>\n",
       "      <td>428.121087</td>\n",
       "      <td>SUBURBANEARLY</td>\n",
       "    </tr>\n",
       "    <tr>\n",
       "      <th>86000US51239</th>\n",
       "      <td>171486571</td>\n",
       "      <td>3318</td>\n",
       "      <td>1963.0</td>\n",
       "      <td>19.348454</td>\n",
       "      <td>EXURBAN</td>\n",
       "    </tr>\n",
       "    <tr>\n",
       "      <th>86000US66053</th>\n",
       "      <td>257311760</td>\n",
       "      <td>7768</td>\n",
       "      <td>1991.0</td>\n",
       "      <td>30.189059</td>\n",
       "      <td>EXURBAN</td>\n",
       "    </tr>\n",
       "    <tr>\n",
       "      <th>86000US21635</th>\n",
       "      <td>79647655</td>\n",
       "      <td>2208</td>\n",
       "      <td>1980.0</td>\n",
       "      <td>27.722097</td>\n",
       "      <td>EXURBAN</td>\n",
       "    </tr>\n",
       "    <tr>\n",
       "      <th>86000US68970</th>\n",
       "      <td>396061190</td>\n",
       "      <td>1426</td>\n",
       "      <td>1939.0</td>\n",
       "      <td>3.600454</td>\n",
       "      <td>EXURBAN</td>\n",
       "    </tr>\n",
       "    <tr>\n",
       "      <th>86000US33130</th>\n",
       "      <td>2856755</td>\n",
       "      <td>24338</td>\n",
       "      <td>1960.0</td>\n",
       "      <td>8519.456516</td>\n",
       "      <td>URBAN</td>\n",
       "    </tr>\n",
       "    <tr>\n",
       "      <th>86000US85202</th>\n",
       "      <td>16247207</td>\n",
       "      <td>36672</td>\n",
       "      <td>1979.0</td>\n",
       "      <td>2257.126409</td>\n",
       "      <td>SUBURBANEARLY</td>\n",
       "    </tr>\n",
       "    <tr>\n",
       "      <th>86000US90013</th>\n",
       "      <td>1737681</td>\n",
       "      <td>10256</td>\n",
       "      <td>1939.0</td>\n",
       "      <td>5902.118974</td>\n",
       "      <td>URBAN</td>\n",
       "    </tr>\n",
       "    <tr>\n",
       "      <th>86000US99781</th>\n",
       "      <td>4768487284</td>\n",
       "      <td>168</td>\n",
       "      <td>1984.0</td>\n",
       "      <td>0.035231</td>\n",
       "      <td>EXURBAN</td>\n",
       "    </tr>\n",
       "    <tr>\n",
       "      <th>86000US56046</th>\n",
       "      <td>3785627</td>\n",
       "      <td>53</td>\n",
       "      <td>1956.0</td>\n",
       "      <td>14.000323</td>\n",
       "      <td>EXURBAN</td>\n",
       "    </tr>\n",
       "    <tr>\n",
       "      <th>86000US97149</th>\n",
       "      <td>66613648</td>\n",
       "      <td>361</td>\n",
       "      <td>1987.0</td>\n",
       "      <td>5.419310</td>\n",
       "      <td>EXURBAN</td>\n",
       "    </tr>\n",
       "  </tbody>\n",
       "</table>\n",
       "</div>"
      ],
      "text/plain": [
       "                 AREAMSQ  Population  MEDYRBUILT   POPPERKMSQ            CAT\n",
       "GEOID                                                                       \n",
       "86000US43084    55869832         854      1947.0    15.285530        EXURBAN\n",
       "86000US23480     5001165         273      1949.0    54.587281        EXURBAN\n",
       "86000US44321    39417067       14933      1986.0   378.846047   SUBURBANLATE\n",
       "86000US60551   149406633        4779      1982.0    31.986532        EXURBAN\n",
       "86000US75103   516577037       13103      1981.0    25.365045        EXURBAN\n",
       "86000US25414   141470974       17147      1986.0   121.205075   SUBURBANLATE\n",
       "86000US37210    23936536       15071      1964.0   629.623267  SUBURBANEARLY\n",
       "86000US11560    19430271        6534      1954.0   336.279406  SUBURBANEARLY\n",
       "86000US49458    18569991          52      1974.0     2.800217        EXURBAN\n",
       "86000US66701   762737340       12130      1957.0    15.903247        EXURBAN\n",
       "86000US95651    30057281         451      1984.0    15.004684        EXURBAN\n",
       "86000US33981    62871553        9641      1996.0   153.344391   SUBURBANLATE\n",
       "86000US70668   372860417        6727      1980.0    18.041604        EXURBAN\n",
       "86000US92024    43704640       49048      1978.0  1122.260703  SUBURBANEARLY\n",
       "86000US19367      437705         104      1939.0   237.602952        EXURBAN\n",
       "86000US17074   164773985        7271      1968.0    44.127111        EXURBAN\n",
       "86000US13903   102580962       18737      1952.0   182.655725  SUBURBANEARLY\n",
       "86000US49903   480597793         162      1966.0     0.337080        EXURBAN\n",
       "86000US59713   426037133         216      1960.0     0.506998        EXURBAN\n",
       "86000US95736      649349         278      1959.0   428.121087  SUBURBANEARLY\n",
       "86000US51239   171486571        3318      1963.0    19.348454        EXURBAN\n",
       "86000US66053   257311760        7768      1991.0    30.189059        EXURBAN\n",
       "86000US21635    79647655        2208      1980.0    27.722097        EXURBAN\n",
       "86000US68970   396061190        1426      1939.0     3.600454        EXURBAN\n",
       "86000US33130     2856755       24338      1960.0  8519.456516          URBAN\n",
       "86000US85202    16247207       36672      1979.0  2257.126409  SUBURBANEARLY\n",
       "86000US90013     1737681       10256      1939.0  5902.118974          URBAN\n",
       "86000US99781  4768487284         168      1984.0     0.035231        EXURBAN\n",
       "86000US56046     3785627          53      1956.0    14.000323        EXURBAN\n",
       "86000US97149    66613648         361      1987.0     5.419310        EXURBAN"
      ]
     },
     "execution_count": 21,
     "metadata": {},
     "output_type": "execute_result"
    }
   ],
   "source": [
    "# look at a few records to do a quick sanity check\n",
    "urban_df.sample(30)"
   ]
  },
  {
   "cell_type": "markdown",
   "metadata": {
    "collapsed": true
   },
   "source": [
    "## Mapping Urbanity"
   ]
  },
  {
   "cell_type": "code",
   "execution_count": 22,
   "metadata": {
    "collapsed": false
   },
   "outputs": [],
   "source": [
    "#!pip install --user cartodb\n",
    "# Set up cartodb module for use\n",
    "from cartodb import CartoDBAPIKey, CartoDBException\n",
    "# Learn how to use the CartoDB SQL API here:\n",
    "# http://docs.cartodb.com/cartodb-platform/sql-api/making-calls/\n",
    "API_KEY = 'dfd11d7ad9ad3f213a6336b5e878865422f624f1'\n",
    "CARTODB_ACCOUNT = 'ibm'\n",
    "cl = CartoDBAPIKey(API_KEY, CARTODB_ACCOUNT)"
   ]
  },
  {
   "cell_type": "markdown",
   "metadata": {
    "collapsed": true
   },
   "source": [
    "### Update data table in CartoDB"
   ]
  },
  {
   "cell_type": "code",
   "execution_count": 23,
   "metadata": {
    "collapsed": false
   },
   "outputs": [
    {
     "data": {
      "text/html": [
       "<div>\n",
       "<table border=\"1\" class=\"dataframe\">\n",
       "  <thead>\n",
       "    <tr style=\"text-align: right;\">\n",
       "      <th></th>\n",
       "      <th>AREAMSQ</th>\n",
       "      <th>Population</th>\n",
       "      <th>MEDYRBUILT</th>\n",
       "      <th>POPPERKMSQ</th>\n",
       "      <th>CAT</th>\n",
       "    </tr>\n",
       "    <tr>\n",
       "      <th>GEOID</th>\n",
       "      <th></th>\n",
       "      <th></th>\n",
       "      <th></th>\n",
       "      <th></th>\n",
       "      <th></th>\n",
       "    </tr>\n",
       "  </thead>\n",
       "  <tbody>\n",
       "    <tr>\n",
       "      <th>86000US43452</th>\n",
       "      <td>121783680</td>\n",
       "      <td>13659</td>\n",
       "      <td>1974.0</td>\n",
       "      <td>112.157885</td>\n",
       "      <td>SUBURBANEARLY</td>\n",
       "    </tr>\n",
       "    <tr>\n",
       "      <th>86000US43458</th>\n",
       "      <td>2573816</td>\n",
       "      <td>312</td>\n",
       "      <td>1960.0</td>\n",
       "      <td>121.220787</td>\n",
       "      <td>SUBURBANEARLY</td>\n",
       "    </tr>\n",
       "    <tr>\n",
       "      <th>86000US43460</th>\n",
       "      <td>7158543</td>\n",
       "      <td>6334</td>\n",
       "      <td>1959.0</td>\n",
       "      <td>884.816924</td>\n",
       "      <td>SUBURBANEARLY</td>\n",
       "    </tr>\n",
       "    <tr>\n",
       "      <th>86000US43465</th>\n",
       "      <td>28559486</td>\n",
       "      <td>5267</td>\n",
       "      <td>1974.0</td>\n",
       "      <td>184.422087</td>\n",
       "      <td>SUBURBANEARLY</td>\n",
       "    </tr>\n",
       "    <tr>\n",
       "      <th>86000US43468</th>\n",
       "      <td>1861424</td>\n",
       "      <td>403</td>\n",
       "      <td>1957.0</td>\n",
       "      <td>216.500915</td>\n",
       "      <td>SUBURBANEARLY</td>\n",
       "    </tr>\n",
       "  </tbody>\n",
       "</table>\n",
       "</div>"
      ],
      "text/plain": [
       "                AREAMSQ  Population  MEDYRBUILT  POPPERKMSQ            CAT\n",
       "GEOID                                                                     \n",
       "86000US43452  121783680       13659      1974.0  112.157885  SUBURBANEARLY\n",
       "86000US43458    2573816         312      1960.0  121.220787  SUBURBANEARLY\n",
       "86000US43460    7158543        6334      1959.0  884.816924  SUBURBANEARLY\n",
       "86000US43465   28559486        5267      1974.0  184.422087  SUBURBANEARLY\n",
       "86000US43468    1861424         403      1957.0  216.500915  SUBURBANEARLY"
      ]
     },
     "execution_count": 23,
     "metadata": {},
     "output_type": "execute_result"
    }
   ],
   "source": [
    "# get all non-exurban zips\n",
    "notex_df = urban_df[ urban_df['CAT'] != 'EXURBAN' ]\n",
    "notex_df.head()"
   ]
  },
  {
   "cell_type": "code",
   "execution_count": 24,
   "metadata": {
    "collapsed": false
   },
   "outputs": [],
   "source": [
    "# generate PostgreSQL INSERT statements for CartoDB\n",
    "insertsql = ''\n",
    "for index, row in notex_df.iterrows(): \n",
    "    insertsql += \"INSERT INTO urbanity(zipcode,category) VALUES ('\" + index + \"', '\" + row['CAT'] + \"');\""
   ]
  },
  {
   "cell_type": "code",
   "execution_count": 25,
   "metadata": {
    "collapsed": false
   },
   "outputs": [
    {
     "name": "stdout",
     "output_type": "stream",
     "text": [
      "{u'fields': {}, u'rows': [], u'total_rows': 10002, u'time': 0.059}\n",
      "{u'fields': {}, u'rows': [], u'total_rows': 1, u'time': 55.475}\n"
     ]
    }
   ],
   "source": [
    "# send SQL INSERT statements to CartoDB\n",
    "try:\n",
    "    print(cl.sql('delete from urbanity'))\n",
    "    print(cl.sql(insertsql))\n",
    "except CartoDBException as e:\n",
    "    print(\"some error ocurred\", e)"
   ]
  },
  {
   "cell_type": "markdown",
   "metadata": {
    "collapsed": true
   },
   "source": [
    "### Urbanity Map!"
   ]
  },
  {
   "cell_type": "code",
   "execution_count": 26,
   "metadata": {
    "collapsed": false
   },
   "outputs": [
    {
     "data": {
      "application/javascript": [
       "element.append(\"<link rel='stylesheet' href='http://libs.cartocdn.com/cartodb.js/v3/3.15/themes/css/cartodb.css' />\")\n",
       "element.append(\"<div id='map' style='height:500px;width:900px;padding:0;margin:0'></div>\");\n",
       "\n",
       "require.config({\n",
       "  paths: {\n",
       "      cartodblib: 'http://libs.cartocdn.com/cartodb.js/v3/3.15/cartodb'\n",
       "  }\n",
       "});\n",
       "\n",
       "var main = function() {\n",
       "  cartodb.createVis('map', 'https://ibmanalytics.cartodb.com/u/ibm/api/v2/viz/3a4e9e24-b3f6-11e5-a4c7-0e31c9be1b51/viz.json', {\n",
       "      shareable: true,title: true,description: true,search: true,tiles_loader: true,\n",
       "      center_lat: 40, center_lon: -100, zoom: 3\n",
       "  })\n",
       "  .done(function(vis, layers) {\n",
       "    // layer 0 is the base layer, layer 1 is cartodb layer\n",
       "    // setInteraction is disabled by default\n",
       "    layers[1].setInteraction(true);\n",
       "    layers[1].on('featureOver', function(e, latlng, pos, data) {\n",
       "      cartodb.log.log(e, latlng, pos, data);\n",
       "    });\n",
       "    \n",
       "    // var map = vis.getNativeMap(); // get the native map to work with it\n",
       "    \n",
       "  })\n",
       "  .error(function(err) {\n",
       "    console.log(err);\n",
       "  });\n",
       "}\n",
       "\n",
       "require(['cartodblib'], main);"
      ],
      "text/plain": [
       "<IPython.core.display.Javascript object>"
      ]
     },
     "metadata": {},
     "output_type": "display_data"
    }
   ],
   "source": [
    "%%javascript\n",
    "element.append(\"<link rel='stylesheet' href='http://libs.cartocdn.com/cartodb.js/v3/3.15/themes/css/cartodb.css' />\")\n",
    "element.append(\"<div id='map' style='height:500px;width:900px;padding:0;margin:0'></div>\");\n",
    "\n",
    "require.config({\n",
    "  paths: {\n",
    "      cartodblib: 'http://libs.cartocdn.com/cartodb.js/v3/3.15/cartodb'\n",
    "  }\n",
    "});\n",
    "\n",
    "var main = function() {\n",
    "  cartodb.createVis('map', 'https://ibmanalytics.cartodb.com/u/ibm/api/v2/viz/3a4e9e24-b3f6-11e5-a4c7-0e31c9be1b51/viz.json', {\n",
    "      shareable: true,title: true,description: true,search: true,tiles_loader: true,\n",
    "      center_lat: 40, center_lon: -100, zoom: 3\n",
    "  })\n",
    "  .done(function(vis, layers) {\n",
    "    // layer 0 is the base layer, layer 1 is cartodb layer\n",
    "    // setInteraction is disabled by default\n",
    "    layers[1].setInteraction(true);\n",
    "    layers[1].on('featureOver', function(e, latlng, pos, data) {\n",
    "      cartodb.log.log(e, latlng, pos, data);\n",
    "    });\n",
    "    \n",
    "    // var map = vis.getNativeMap(); // get the native map to work with it\n",
    "    \n",
    "  })\n",
    "  .error(function(err) {\n",
    "    console.log(err);\n",
    "  });\n",
    "}\n",
    "\n",
    "require(['cartodblib'], main);"
   ]
  },
  {
   "cell_type": "code",
   "execution_count": null,
   "metadata": {
    "collapsed": true
   },
   "outputs": [],
   "source": []
  }
 ],
 "metadata": {
  "kernelspec": {
   "display_name": "Python 2",
   "language": "python",
   "name": "python2"
  },
  "language_info": {
   "codemirror_mode": {
    "name": "ipython",
    "version": 2
   },
   "file_extension": ".py",
   "mimetype": "text/x-python",
   "name": "python",
   "nbconvert_exporter": "python",
   "pygments_lexer": "ipython2",
   "version": "2.7.11"
  }
 },
 "nbformat": 4,
 "nbformat_minor": 0
}
