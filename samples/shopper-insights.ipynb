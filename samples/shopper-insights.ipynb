{
 "cells": [
  {
   "cell_type": "markdown",
   "metadata": {},
   "source": [
    "# Simple Shopper Insights\n",
    "\n",
    "last modified: May, 2016\n",
    "\n",
    "author: [Raj Singh](https://developer.ibm.com/clouddataservices/author/rrsingh/)\n",
    "\n",
    "original: https://github.com/ibm-cds-labs/open-data/blob/master/samples/shopper-insights.ipynb"
   ]
  },
  {
   "cell_type": "markdown",
   "metadata": {},
   "source": [
    "## Overview\n",
    "\n",
    "Today, an ever growing wealth of public data, e.g. census, geospatial, demographic, incident, traffic, etc., is available to fuel analytic insights when combined with corporate data. Your own data only tells you what your business is doing. With open data, you learn what the world is doing. And the combination of the two allows you to align business practices with the market.\n",
    "\n",
    "**Simple Shopper Insights** is about democratizing big data analytics with open data and cloud-based analytics. It's a [Jupyter notebook](http://jupyter.org/) that runs best in [IBM's Spark-as-a-service](http://www.ibm.com/analytics/us/en/technology/cloud-data-services/spark-as-a-service/) that enables a Bluemix user to integrate customer sales data with US Census demographic data, and in minutes perform common analyses that once took days or weeks to complete.\n",
    "\n",
    "This notebook goes through a complete analysis using sample data readily available on the web. But it also serves as a template for your own work with your own data. Just substitute the sample sales data with your own! \n",
    "\n",
    "Here are some of the insights produced in this notebook:\n",
    "1. demographic characteristics of good customers\n",
    "1. most important demographic characteristics in understanding product appeal\n",
    "1. location of places that are like those areas currently enjoying strong sales"
   ]
  },
  {
   "cell_type": "markdown",
   "metadata": {},
   "source": [
    "<a id=\"toc\"></a>\n",
    "## Table of Contents\n",
    "\n",
    "- [Setup](#setup)\n",
    "- [Census Data](#censusdata)\n",
    "  - [Census data description](#censusdatadesc)\n",
    "  - [Import](#censusdataimport)\n",
    "- [Sales data](#salesdata)\n",
    "  - [Import](#salesdataimport)\n",
    "  - [Merge with Census](#salesdatamerge)\n",
    "- [Insights](#insights)\n",
    "- [Finding high potential zip codes](#zipfind)\n",
    "- [Target zip codes](#targetregions)\n",
    "- [Mapping](#mapping)\n",
    "- Appendices\n",
    "  - [Appendix A: Examining correlation](#correlation)\n",
    "  - [Appendix B: Visualizing Customer Demograpics vs. the Nation](#viz)\n",
    "  "
   ]
  },
  {
   "cell_type": "markdown",
   "metadata": {},
   "source": [
    "<a id=\"setup\"></a>\n",
    "## Setup"
   ]
  },
  {
   "cell_type": "markdown",
   "metadata": {},
   "source": [
    "### Python Imports\n",
    "[back to top](#toc)\n",
    "Import libraries and connection information to connect to Swift Object Storage on IBM Bluemix to get data from CSV text files. "
   ]
  },
  {
   "cell_type": "code",
   "execution_count": 1,
   "metadata": {
    "collapsed": false
   },
   "outputs": [
    {
     "name": "stderr",
     "output_type": "stream",
     "text": [
      "/Users/rajrsingh/anaconda/lib/python2.7/site-packages/matplotlib/__init__.py:872: UserWarning: axes.color_cycle is deprecated and replaced with axes.prop_cycle; please use the latter.\n",
      "  warnings.warn(self.msg_depr % (key, alt_key))\n"
     ]
    }
   ],
   "source": [
    "import os, requests, StringIO, pandas as pd, numpy as np, json, matplotlib.pyplot as plt, seaborn as sns\n",
    "%matplotlib inline"
   ]
  },
  {
   "cell_type": "markdown",
   "metadata": {},
   "source": [
    "<a id=\"censusdata\"></a>\n",
    "## Census data\n",
    "[back to top](#toc)\n",
    "\n",
    "Census data from the 2013 US Census American Community Survey (ACS), 5-year estimates. \n",
    "\n",
    "Created from the \"zip code tabulation area\" (ZCTA) [TIGER/Line® with Selected Demographic and Economic Data product in Geodatabase format](http://www.census.gov/geo/maps-data/data/tiger-data.html). This particular version of the ACS is used for the folowing reasons:\n",
    "1. 5-year estimates are the most accurate data outside of the decennial census [as explained here](http://www.census.gov/programs-surveys/acs/guidance/estimates.html).\n",
    "1. 2013 is the most recent data set with 5-year estimates\n",
    "1. TIGER/Line® gives you the geographic boundaries of the zip codes so you can perform spatial analyses\n",
    "1. This data set is smaller than the full Census, but still has the important income, education, race, age and occupation demographics we want to use.\n",
    "\n",
    "If you want to do this yourself, [this article](https://developer.ibm.com/clouddataservices/2015/09/08/census-open-data-on-ibm-cloud/) explains how to get a CSV out of that format.\n",
    "\n",
    "### Accessing Census files\n",
    "\n",
    "Access the files mentioned here via the [IBM Analytics Exchange](https://console.ng.bluemix.net/data/exchange/). You can get your free, individual \"API key\" on each data set's detail page:\n",
    " \n",
    "- [Income](https://console.ng.bluemix.net/data/exchange/public/e/united-states-demographic-measures-income)\n",
    "- [Age](https://console.ng.bluemix.net/data/exchange/public/e/united-states-demographic-measures-age)\n",
    "- [Education](https://console.ng.bluemix.net/data/exchange/public/e/united-states-demographic-measures-education)\n",
    "- [Race](https://console.ng.bluemix.net/data/exchange/public/e/united-states-demographic-measures-race)\n",
    "\n",
    "After getting your API key (your personal URL for the data file), in this script replace, for example, `os.environ['AE_KEY_AGE']` with your URL for the Age data CSV file."
   ]
  },
  {
   "cell_type": "markdown",
   "metadata": {},
   "source": [
    "<a id=\"censusdatadesc\"></a>\n",
    "### Census data description\n",
    "\n",
    "Here are the data fields we will use from the Census\n",
    "\n",
    "```\n",
    "GEOID: Zip code\n",
    "```\n",
    "\n",
    "### Income\n",
    "```\n",
    "B19049e1: Median household income\n",
    "```\n",
    "\n",
    "#### Age\n",
    "```\n",
    "B01002e1: Median age\n",
    "```\n",
    "\n",
    "#### Educational attainment (population >= 25 years old)\n",
    "```\n",
    "B15003e1: Total population\n",
    "B15003e2: No schooling completed\n",
    "B15003e3: Nursery school\n",
    "B15003e4 to B15003e16: Kindergarten to 12th grade\n",
    "B15003e17: Regular high school diploma\n",
    "B15003e18: GED or alternative\n",
    "B15003e19: Some college, < 1 year\n",
    "B15003e20: Some college, 1 or more years, no degree\n",
    "B15003e21: Associates degree\n",
    "B15003e22: Bachelors degree\n",
    "B15003e23: Masters degree\n",
    "B15003e24: Professional degree\n",
    "B15003e25: Doctorate degree\n",
    "```\n",
    "\n",
    "#### Race\n",
    "```\n",
    "B02001e1: Total population\n",
    "B02001e2: White alone\n",
    "B02001e3: Black or African American alone\n",
    "B02001e4: American Indian and Alaska Native alone\n",
    "B02001e5: Asian alone\n",
    "B02001e6: Native Hawaiian and Other Pacific Islander alone\n",
    "B02001e7: Some other race alone\n",
    "B02001e8: Two or more races\n",
    "B03001e3: Hispanic or Latino: Total population\n",
    "```"
   ]
  },
  {
   "cell_type": "markdown",
   "metadata": {},
   "source": [
    "<a id=\"censusdataimport\"></a>\n",
    "### Import Census data"
   ]
  },
  {
   "cell_type": "markdown",
   "metadata": {},
   "source": [
    "Group educational attainment into 4 major categories, and normalize by making it a percentage of the zip code's population"
   ]
  },
  {
   "cell_type": "markdown",
   "metadata": {},
   "source": [
    "#### Age"
   ]
  },
  {
   "cell_type": "code",
   "execution_count": 2,
   "metadata": {
    "collapsed": false
   },
   "outputs": [],
   "source": [
    "census_age_df = pd.read_csv( os.environ['AE_KEY_AGE'], usecols=['GEOID','B01002e1'] )\n",
    "census_age_df.columns = ['GEOID','AGE']"
   ]
  },
  {
   "cell_type": "markdown",
   "metadata": {},
   "source": [
    "#### Income"
   ]
  },
  {
   "cell_type": "code",
   "execution_count": 3,
   "metadata": {
    "collapsed": false
   },
   "outputs": [],
   "source": [
    "census_income_df = pd.read_csv( os.environ['AE_KEY_INCOME'], usecols=['GEOID','B19049e1'] )\n",
    "census_income_df.columns = ['GEOID','INCOME']"
   ]
  },
  {
   "cell_type": "markdown",
   "metadata": {},
   "source": [
    "#### Race"
   ]
  },
  {
   "cell_type": "code",
   "execution_count": 4,
   "metadata": {
    "collapsed": false
   },
   "outputs": [],
   "source": [
    "census_race_df = pd.read_csv(os.environ['AE_KEY_RACE'], \n",
    "                             usecols=['GEOID','B02001e1','B02001e2','B02001e3','B02001e4',\n",
    "                                 'B02001e5','B02001e6','B02001e7','B02001e8','B03001e3'])\n",
    "\n",
    "census_race_df['WHITE'] = census_race_df['B02001e2']/census_race_df['B02001e1']\n",
    "census_race_df['BLACK'] = census_race_df['B02001e3']/census_race_df['B02001e1']\n",
    "census_race_df['NATAMER'] = census_race_df['B02001e4']/census_race_df['B02001e1']\n",
    "census_race_df['ASIAN'] = census_race_df['B02001e5']/census_race_df['B02001e1']\n",
    "census_race_df['PACISL'] = census_race_df['B02001e6']/census_race_df['B02001e1']\n",
    "census_race_df['OTHERRACE'] = census_race_df['B02001e7']/census_race_df['B02001e1']\n",
    "census_race_df['MULTIRACE'] = census_race_df['B02001e8']/census_race_df['B02001e1']\n",
    "census_race_df['HISPLAT'] = census_race_df['B03001e3']/census_race_df['B02001e1']\n",
    "\n",
    "census_race_df.drop(['B02001e1','B02001e2','B02001e3','B02001e4','B02001e5','B02001e6','B02001e7','B02001e8','B03001e3'],inplace=True,axis=1)"
   ]
  },
  {
   "cell_type": "markdown",
   "metadata": {},
   "source": [
    "#### Education"
   ]
  },
  {
   "cell_type": "code",
   "execution_count": 5,
   "metadata": {
    "collapsed": false
   },
   "outputs": [],
   "source": [
    "census_edu_df = pd.read_csv( os.environ['AE_KEY_EDUCATION'], \n",
    "                        usecols=['GEOID','B15003e1','B15003e2','B15003e3','B15003e4','B15003e5','B15003e6',\n",
    "                                 'B15003e7','B15003e8','B15003e9','B15003e10','B15003e11','B15003e12','B15003e13',\n",
    "                                 'B15003e14','B15003e15','B15003e16','B15003e17','B15003e18','B15003e19','B15003e20',\n",
    "                                 'B15003e21','B15003e22','B15003e23','B15003e24','B15003e25'])\n",
    "\n",
    "census_edu_df['NOHSDIP'] = (census_edu_df['B15003e2']+census_edu_df['B15003e3']+census_edu_df['B15003e4']+census_edu_df['B15003e5']+census_edu_df['B15003e6']+census_edu_df['B15003e7']+census_edu_df['B15003e8']+census_edu_df['B15003e9']+census_edu_df['B15003e10']+census_edu_df['B15003e11']+census_edu_df['B15003e12']+census_edu_df['B15003e13']+census_edu_df['B15003e14']+census_edu_df['B15003e15']+census_edu_df['B15003e16'])/census_edu_df['B15003e1']\n",
    "\n",
    "census_edu_df['HSDIPSOMECOL'] = (census_edu_df['B15003e17']+census_edu_df['B15003e18']+census_edu_df['B15003e19']+census_edu_df['B15003e20']+census_edu_df['B15003e21'])/census_edu_df['B15003e1']\n",
    "\n",
    "census_edu_df['BA'] = census_edu_df['B15003e22']/census_edu_df['B15003e1']\n",
    "\n",
    "census_edu_df['GRAD'] = (census_edu_df['B15003e23']+census_edu_df['B15003e24']+census_edu_df['B15003e25'])/census_edu_df['B15003e1']\n",
    "\n",
    "census_edu_df['POPULATION'] = census_edu_df['B15003e1']\n",
    "\n",
    "census_edu_df.drop(['B15003e1','B15003e2','B15003e3','B15003e4','B15003e5','B15003e6',\n",
    "                    'B15003e7','B15003e8','B15003e9','B15003e10','B15003e11','B15003e12','B15003e13',\n",
    "                    'B15003e14','B15003e15','B15003e16','B15003e17','B15003e18','B15003e19','B15003e20',\n",
    "                    'B15003e21','B15003e22','B15003e23','B15003e24','B15003e25'],inplace=True,axis=1)"
   ]
  },
  {
   "cell_type": "code",
   "execution_count": 6,
   "metadata": {
    "collapsed": false
   },
   "outputs": [
    {
     "data": {
      "text/html": [
       "<div>\n",
       "<table border=\"1\" class=\"dataframe\">\n",
       "  <thead>\n",
       "    <tr style=\"text-align: right;\">\n",
       "      <th></th>\n",
       "      <th>INCOME</th>\n",
       "      <th>AGE</th>\n",
       "      <th>WHITE</th>\n",
       "      <th>BLACK</th>\n",
       "      <th>NATAMER</th>\n",
       "      <th>ASIAN</th>\n",
       "      <th>PACISL</th>\n",
       "      <th>OTHERRACE</th>\n",
       "      <th>MULTIRACE</th>\n",
       "      <th>HISPLAT</th>\n",
       "      <th>NOHSDIP</th>\n",
       "      <th>HSDIPSOMECOL</th>\n",
       "      <th>BA</th>\n",
       "      <th>GRAD</th>\n",
       "      <th>POPULATION</th>\n",
       "    </tr>\n",
       "    <tr>\n",
       "      <th>GEOID</th>\n",
       "      <th></th>\n",
       "      <th></th>\n",
       "      <th></th>\n",
       "      <th></th>\n",
       "      <th></th>\n",
       "      <th></th>\n",
       "      <th></th>\n",
       "      <th></th>\n",
       "      <th></th>\n",
       "      <th></th>\n",
       "      <th></th>\n",
       "      <th></th>\n",
       "      <th></th>\n",
       "      <th></th>\n",
       "      <th></th>\n",
       "    </tr>\n",
       "  </thead>\n",
       "  <tbody>\n",
       "    <tr>\n",
       "      <th>86000US36584</th>\n",
       "      <td>24250</td>\n",
       "      <td>37.1</td>\n",
       "      <td>0.569704</td>\n",
       "      <td>0.297475</td>\n",
       "      <td>0.061471</td>\n",
       "      <td>0.000000</td>\n",
       "      <td>0.000000</td>\n",
       "      <td>0.054885</td>\n",
       "      <td>0.016465</td>\n",
       "      <td>0.108672</td>\n",
       "      <td>0.266332</td>\n",
       "      <td>0.648241</td>\n",
       "      <td>0.065327</td>\n",
       "      <td>0.020101</td>\n",
       "      <td>597</td>\n",
       "    </tr>\n",
       "    <tr>\n",
       "      <th>86000US64075</th>\n",
       "      <td>55746</td>\n",
       "      <td>36.2</td>\n",
       "      <td>0.980485</td>\n",
       "      <td>0.006057</td>\n",
       "      <td>0.000000</td>\n",
       "      <td>0.001094</td>\n",
       "      <td>0.000925</td>\n",
       "      <td>0.002860</td>\n",
       "      <td>0.008580</td>\n",
       "      <td>0.079240</td>\n",
       "      <td>0.104852</td>\n",
       "      <td>0.726011</td>\n",
       "      <td>0.110647</td>\n",
       "      <td>0.058491</td>\n",
       "      <td>7420</td>\n",
       "    </tr>\n",
       "    <tr>\n",
       "      <th>86000US04471</th>\n",
       "      <td>28250</td>\n",
       "      <td>55.0</td>\n",
       "      <td>0.974359</td>\n",
       "      <td>0.003945</td>\n",
       "      <td>0.000000</td>\n",
       "      <td>0.017751</td>\n",
       "      <td>0.000000</td>\n",
       "      <td>0.000000</td>\n",
       "      <td>0.003945</td>\n",
       "      <td>0.001972</td>\n",
       "      <td>0.087065</td>\n",
       "      <td>0.753731</td>\n",
       "      <td>0.109453</td>\n",
       "      <td>0.049751</td>\n",
       "      <td>402</td>\n",
       "    </tr>\n",
       "    <tr>\n",
       "      <th>86000US37862</th>\n",
       "      <td>35895</td>\n",
       "      <td>39.1</td>\n",
       "      <td>0.927299</td>\n",
       "      <td>0.013939</td>\n",
       "      <td>0.005922</td>\n",
       "      <td>0.020225</td>\n",
       "      <td>0.000410</td>\n",
       "      <td>0.026192</td>\n",
       "      <td>0.006013</td>\n",
       "      <td>0.119984</td>\n",
       "      <td>0.195993</td>\n",
       "      <td>0.635074</td>\n",
       "      <td>0.111396</td>\n",
       "      <td>0.057537</td>\n",
       "      <td>15225</td>\n",
       "    </tr>\n",
       "    <tr>\n",
       "      <th>86000US65230</th>\n",
       "      <td>53109</td>\n",
       "      <td>47.5</td>\n",
       "      <td>0.833083</td>\n",
       "      <td>0.106767</td>\n",
       "      <td>0.000000</td>\n",
       "      <td>0.000000</td>\n",
       "      <td>0.000000</td>\n",
       "      <td>0.000000</td>\n",
       "      <td>0.060150</td>\n",
       "      <td>0.000000</td>\n",
       "      <td>0.188605</td>\n",
       "      <td>0.636542</td>\n",
       "      <td>0.115914</td>\n",
       "      <td>0.058939</td>\n",
       "      <td>509</td>\n",
       "    </tr>\n",
       "  </tbody>\n",
       "</table>\n",
       "</div>"
      ],
      "text/plain": [
       "              INCOME   AGE     WHITE     BLACK   NATAMER     ASIAN    PACISL  \\\n",
       "GEOID                                                                          \n",
       "86000US36584   24250  37.1  0.569704  0.297475  0.061471  0.000000  0.000000   \n",
       "86000US64075   55746  36.2  0.980485  0.006057  0.000000  0.001094  0.000925   \n",
       "86000US04471   28250  55.0  0.974359  0.003945  0.000000  0.017751  0.000000   \n",
       "86000US37862   35895  39.1  0.927299  0.013939  0.005922  0.020225  0.000410   \n",
       "86000US65230   53109  47.5  0.833083  0.106767  0.000000  0.000000  0.000000   \n",
       "\n",
       "              OTHERRACE  MULTIRACE   HISPLAT   NOHSDIP  HSDIPSOMECOL  \\\n",
       "GEOID                                                                  \n",
       "86000US36584   0.054885   0.016465  0.108672  0.266332      0.648241   \n",
       "86000US64075   0.002860   0.008580  0.079240  0.104852      0.726011   \n",
       "86000US04471   0.000000   0.003945  0.001972  0.087065      0.753731   \n",
       "86000US37862   0.026192   0.006013  0.119984  0.195993      0.635074   \n",
       "86000US65230   0.000000   0.060150  0.000000  0.188605      0.636542   \n",
       "\n",
       "                    BA      GRAD  POPULATION  \n",
       "GEOID                                         \n",
       "86000US36584  0.065327  0.020101         597  \n",
       "86000US64075  0.110647  0.058491        7420  \n",
       "86000US04471  0.109453  0.049751         402  \n",
       "86000US37862  0.111396  0.057537       15225  \n",
       "86000US65230  0.115914  0.058939         509  "
      ]
     },
     "execution_count": 6,
     "metadata": {},
     "output_type": "execute_result"
    }
   ],
   "source": [
    "census_income_age_df = census_income_df.merge(census_age_df, on='GEOID')\n",
    "census_income_age_race_df = census_income_age_df.merge(census_race_df, on='GEOID')\n",
    "census_df = census_income_age_race_df.merge(census_edu_df, on='GEOID')\n",
    "\n",
    "census_df.set_index('GEOID',inplace=True)\n",
    "census_df.sample(5)"
   ]
  },
  {
   "cell_type": "markdown",
   "metadata": {},
   "source": [
    "<a id=\"salesdata\"></a>\n",
    "## Sales data\n"
   ]
  },
  {
   "cell_type": "markdown",
   "metadata": {},
   "source": [
    "<a id=\"salesdataimport\"></a>\n",
    "### Import sample sales data set\n",
    "\n",
    "Here we bring in a relatively small sample sales data set. There are only about 400 U.S. sales for the product we are interested in -- \"Product1\". But this is good enough to illustrate the analysis. \n",
    "\n",
    "If you were to do this yourself with your own sales data, your data should organized as follows:\n",
    "1. there should be sales in the U.S. (since we're analyzing it against U.S. Census data)\n",
    "1. each row should represent a unique sale\n",
    "1. the data set should contain columns for zip code, price, product ID and Country name\n",
    "1. the data set should be in a CSV text file format\n"
   ]
  },
  {
   "cell_type": "code",
   "execution_count": 7,
   "metadata": {
    "collapsed": false
   },
   "outputs": [],
   "source": [
    "country = 'United States'\n",
    "product = 'Product1'\n",
    "\n",
    "# import the CSV file\n",
    "raw_data = \"https://github.com/ibm-cds-labs/open-data/raw/master/salesjan2009/salesjan2009.csv.gz\"\n",
    "\n",
    "# create a data frame with just the columns we need\n",
    "sales_df = pd.read_csv(raw_data, compression='gzip', dtype={\"US Zip\": np.str}, \n",
    "                       usecols=['Product','US Zip','Country'])\n",
    "\n",
    "# just get US sales for a single product\n",
    "sales_df = sales_df[ (sales_df.Product == product) \n",
    "                      & (sales_df.Country == country)]\n",
    "\n",
    "# make the zip code format match the zip code format in the census data\n",
    "sales_df['GEOID'] = \"86000US\" + sales_df['US Zip']\n",
    "\n",
    "# drop columns we don't need anymore\n",
    "sales_df.drop(['Product','Country','US Zip'],inplace=True,axis=1)"
   ]
  },
  {
   "cell_type": "code",
   "execution_count": 8,
   "metadata": {
    "collapsed": false
   },
   "outputs": [
    {
     "data": {
      "text/plain": [
       "count    306.000000\n",
       "mean       1.307190\n",
       "std        0.866733\n",
       "min        1.000000\n",
       "25%        1.000000\n",
       "50%        1.000000\n",
       "75%        1.000000\n",
       "max        9.000000\n",
       "Name: Sales, dtype: float64"
      ]
     },
     "execution_count": 8,
     "metadata": {},
     "output_type": "execute_result"
    }
   ],
   "source": [
    "sales_counts = sales_df['GEOID'].value_counts()\n",
    "sales_counts.name = 'Sales'\n",
    "sales_counts.describe()"
   ]
  },
  {
   "cell_type": "markdown",
   "metadata": {
    "collapsed": false
   },
   "source": [
    "<a id=\"salesdatamerge\"></a>\n",
    "### Merge sales to Census\n",
    "[back to top](#toc)"
   ]
  },
  {
   "cell_type": "code",
   "execution_count": 9,
   "metadata": {
    "collapsed": false
   },
   "outputs": [
    {
     "data": {
      "text/html": [
       "<div>\n",
       "<table border=\"1\" class=\"dataframe\">\n",
       "  <thead>\n",
       "    <tr style=\"text-align: right;\">\n",
       "      <th></th>\n",
       "      <th>INCOME</th>\n",
       "      <th>AGE</th>\n",
       "      <th>WHITE</th>\n",
       "      <th>BLACK</th>\n",
       "      <th>NATAMER</th>\n",
       "      <th>ASIAN</th>\n",
       "      <th>PACISL</th>\n",
       "      <th>OTHERRACE</th>\n",
       "      <th>MULTIRACE</th>\n",
       "      <th>HISPLAT</th>\n",
       "      <th>NOHSDIP</th>\n",
       "      <th>HSDIPSOMECOL</th>\n",
       "      <th>BA</th>\n",
       "      <th>GRAD</th>\n",
       "      <th>POPULATION</th>\n",
       "      <th>Sales</th>\n",
       "    </tr>\n",
       "  </thead>\n",
       "  <tbody>\n",
       "    <tr>\n",
       "      <th>count</th>\n",
       "      <td>304.000000</td>\n",
       "      <td>304.000000</td>\n",
       "      <td>304.000000</td>\n",
       "      <td>304.000000</td>\n",
       "      <td>304.000000</td>\n",
       "      <td>304.000000</td>\n",
       "      <td>304.000000</td>\n",
       "      <td>304.000000</td>\n",
       "      <td>304.000000</td>\n",
       "      <td>304.000000</td>\n",
       "      <td>304.000000</td>\n",
       "      <td>304.000000</td>\n",
       "      <td>304.000000</td>\n",
       "      <td>304.000000</td>\n",
       "      <td>305.000000</td>\n",
       "      <td>306.000000</td>\n",
       "    </tr>\n",
       "    <tr>\n",
       "      <th>mean</th>\n",
       "      <td>76178.167763</td>\n",
       "      <td>39.015132</td>\n",
       "      <td>0.760876</td>\n",
       "      <td>0.093561</td>\n",
       "      <td>0.005064</td>\n",
       "      <td>0.072316</td>\n",
       "      <td>0.002496</td>\n",
       "      <td>0.036198</td>\n",
       "      <td>0.029490</td>\n",
       "      <td>0.134404</td>\n",
       "      <td>0.100072</td>\n",
       "      <td>0.472995</td>\n",
       "      <td>0.246166</td>\n",
       "      <td>0.180768</td>\n",
       "      <td>17508.301639</td>\n",
       "      <td>1.307190</td>\n",
       "    </tr>\n",
       "    <tr>\n",
       "      <th>std</th>\n",
       "      <td>36094.736528</td>\n",
       "      <td>6.057036</td>\n",
       "      <td>0.193980</td>\n",
       "      <td>0.144929</td>\n",
       "      <td>0.012988</td>\n",
       "      <td>0.090579</td>\n",
       "      <td>0.011741</td>\n",
       "      <td>0.056148</td>\n",
       "      <td>0.031175</td>\n",
       "      <td>0.151961</td>\n",
       "      <td>0.083413</td>\n",
       "      <td>0.148536</td>\n",
       "      <td>0.093341</td>\n",
       "      <td>0.115888</td>\n",
       "      <td>11111.128358</td>\n",
       "      <td>0.866733</td>\n",
       "    </tr>\n",
       "    <tr>\n",
       "      <th>min</th>\n",
       "      <td>16069.000000</td>\n",
       "      <td>21.800000</td>\n",
       "      <td>0.095601</td>\n",
       "      <td>0.000000</td>\n",
       "      <td>0.000000</td>\n",
       "      <td>0.000000</td>\n",
       "      <td>0.000000</td>\n",
       "      <td>0.000000</td>\n",
       "      <td>0.000000</td>\n",
       "      <td>0.000000</td>\n",
       "      <td>0.000000</td>\n",
       "      <td>0.040559</td>\n",
       "      <td>0.000000</td>\n",
       "      <td>0.010708</td>\n",
       "      <td>0.000000</td>\n",
       "      <td>1.000000</td>\n",
       "    </tr>\n",
       "    <tr>\n",
       "      <th>40%</th>\n",
       "      <td>62186.000000</td>\n",
       "      <td>37.400000</td>\n",
       "      <td>0.783673</td>\n",
       "      <td>0.025167</td>\n",
       "      <td>0.001416</td>\n",
       "      <td>0.027078</td>\n",
       "      <td>0.000000</td>\n",
       "      <td>0.011289</td>\n",
       "      <td>0.020066</td>\n",
       "      <td>0.060033</td>\n",
       "      <td>0.058791</td>\n",
       "      <td>0.436068</td>\n",
       "      <td>0.220465</td>\n",
       "      <td>0.124059</td>\n",
       "      <td>13572.800000</td>\n",
       "      <td>1.000000</td>\n",
       "    </tr>\n",
       "    <tr>\n",
       "      <th>50%</th>\n",
       "      <td>69855.500000</td>\n",
       "      <td>38.650000</td>\n",
       "      <td>0.819666</td>\n",
       "      <td>0.035619</td>\n",
       "      <td>0.002246</td>\n",
       "      <td>0.038763</td>\n",
       "      <td>0.000000</td>\n",
       "      <td>0.015675</td>\n",
       "      <td>0.023534</td>\n",
       "      <td>0.076052</td>\n",
       "      <td>0.074362</td>\n",
       "      <td>0.478094</td>\n",
       "      <td>0.247006</td>\n",
       "      <td>0.159859</td>\n",
       "      <td>16488.000000</td>\n",
       "      <td>1.000000</td>\n",
       "    </tr>\n",
       "    <tr>\n",
       "      <th>60%</th>\n",
       "      <td>79873.600000</td>\n",
       "      <td>40.600000</td>\n",
       "      <td>0.857119</td>\n",
       "      <td>0.054711</td>\n",
       "      <td>0.002938</td>\n",
       "      <td>0.056001</td>\n",
       "      <td>0.000132</td>\n",
       "      <td>0.022228</td>\n",
       "      <td>0.027695</td>\n",
       "      <td>0.104562</td>\n",
       "      <td>0.092572</td>\n",
       "      <td>0.531858</td>\n",
       "      <td>0.279242</td>\n",
       "      <td>0.192510</td>\n",
       "      <td>19351.800000</td>\n",
       "      <td>1.000000</td>\n",
       "    </tr>\n",
       "    <tr>\n",
       "      <th>max</th>\n",
       "      <td>216037.000000</td>\n",
       "      <td>68.300000</td>\n",
       "      <td>0.994135</td>\n",
       "      <td>0.767693</td>\n",
       "      <td>0.136069</td>\n",
       "      <td>0.488290</td>\n",
       "      <td>0.115780</td>\n",
       "      <td>0.385442</td>\n",
       "      <td>0.271421</td>\n",
       "      <td>0.887213</td>\n",
       "      <td>0.553417</td>\n",
       "      <td>0.769231</td>\n",
       "      <td>0.440627</td>\n",
       "      <td>0.656643</td>\n",
       "      <td>65117.000000</td>\n",
       "      <td>9.000000</td>\n",
       "    </tr>\n",
       "  </tbody>\n",
       "</table>\n",
       "</div>"
      ],
      "text/plain": [
       "              INCOME         AGE       WHITE       BLACK     NATAMER  \\\n",
       "count     304.000000  304.000000  304.000000  304.000000  304.000000   \n",
       "mean    76178.167763   39.015132    0.760876    0.093561    0.005064   \n",
       "std     36094.736528    6.057036    0.193980    0.144929    0.012988   \n",
       "min     16069.000000   21.800000    0.095601    0.000000    0.000000   \n",
       "40%     62186.000000   37.400000    0.783673    0.025167    0.001416   \n",
       "50%     69855.500000   38.650000    0.819666    0.035619    0.002246   \n",
       "60%     79873.600000   40.600000    0.857119    0.054711    0.002938   \n",
       "max    216037.000000   68.300000    0.994135    0.767693    0.136069   \n",
       "\n",
       "            ASIAN      PACISL   OTHERRACE   MULTIRACE     HISPLAT     NOHSDIP  \\\n",
       "count  304.000000  304.000000  304.000000  304.000000  304.000000  304.000000   \n",
       "mean     0.072316    0.002496    0.036198    0.029490    0.134404    0.100072   \n",
       "std      0.090579    0.011741    0.056148    0.031175    0.151961    0.083413   \n",
       "min      0.000000    0.000000    0.000000    0.000000    0.000000    0.000000   \n",
       "40%      0.027078    0.000000    0.011289    0.020066    0.060033    0.058791   \n",
       "50%      0.038763    0.000000    0.015675    0.023534    0.076052    0.074362   \n",
       "60%      0.056001    0.000132    0.022228    0.027695    0.104562    0.092572   \n",
       "max      0.488290    0.115780    0.385442    0.271421    0.887213    0.553417   \n",
       "\n",
       "       HSDIPSOMECOL          BA        GRAD    POPULATION       Sales  \n",
       "count    304.000000  304.000000  304.000000    305.000000  306.000000  \n",
       "mean       0.472995    0.246166    0.180768  17508.301639    1.307190  \n",
       "std        0.148536    0.093341    0.115888  11111.128358    0.866733  \n",
       "min        0.040559    0.000000    0.010708      0.000000    1.000000  \n",
       "40%        0.436068    0.220465    0.124059  13572.800000    1.000000  \n",
       "50%        0.478094    0.247006    0.159859  16488.000000    1.000000  \n",
       "60%        0.531858    0.279242    0.192510  19351.800000    1.000000  \n",
       "max        0.769231    0.440627    0.656643  65117.000000    9.000000  "
      ]
     },
     "execution_count": 9,
     "metadata": {},
     "output_type": "execute_result"
    }
   ],
   "source": [
    "saleszips = census_df.join(sales_counts, how='right')\n",
    "saleszips['Zip'] = saleszips.index\n",
    "saleszips.describe(percentiles=[0.4,0.5,0.6])"
   ]
  },
  {
   "cell_type": "markdown",
   "metadata": {},
   "source": [
    "### Identify sales zips with strongest correlation to customers\n",
    "[back to top](#toc)\n",
    "\n",
    "e.g. zips with at least 2 sales - or the top 75% of zips with sales"
   ]
  },
  {
   "cell_type": "code",
   "execution_count": 10,
   "metadata": {
    "collapsed": false
   },
   "outputs": [
    {
     "data": {
      "text/html": [
       "<div>\n",
       "<table border=\"1\" class=\"dataframe\">\n",
       "  <thead>\n",
       "    <tr style=\"text-align: right;\">\n",
       "      <th></th>\n",
       "      <th>INCOME</th>\n",
       "      <th>AGE</th>\n",
       "      <th>WHITE</th>\n",
       "      <th>BLACK</th>\n",
       "      <th>NATAMER</th>\n",
       "      <th>ASIAN</th>\n",
       "      <th>PACISL</th>\n",
       "      <th>OTHERRACE</th>\n",
       "      <th>MULTIRACE</th>\n",
       "      <th>HISPLAT</th>\n",
       "      <th>NOHSDIP</th>\n",
       "      <th>HSDIPSOMECOL</th>\n",
       "      <th>BA</th>\n",
       "      <th>GRAD</th>\n",
       "      <th>POPULATION</th>\n",
       "    </tr>\n",
       "  </thead>\n",
       "  <tbody>\n",
       "    <tr>\n",
       "      <th>mean</th>\n",
       "      <td>76031.980769</td>\n",
       "      <td>37.85</td>\n",
       "      <td>0.699061</td>\n",
       "      <td>0.123149</td>\n",
       "      <td>0.006745</td>\n",
       "      <td>0.089312</td>\n",
       "      <td>0.003743</td>\n",
       "      <td>0.045753</td>\n",
       "      <td>0.032236</td>\n",
       "      <td>0.171723</td>\n",
       "      <td>0.116458</td>\n",
       "      <td>0.416471</td>\n",
       "      <td>0.261879</td>\n",
       "      <td>0.205191</td>\n",
       "      <td>17283.132075</td>\n",
       "    </tr>\n",
       "    <tr>\n",
       "      <th>min</th>\n",
       "      <td>22401.000000</td>\n",
       "      <td>29.90</td>\n",
       "      <td>0.095601</td>\n",
       "      <td>0.003826</td>\n",
       "      <td>0.000000</td>\n",
       "      <td>0.000000</td>\n",
       "      <td>0.000000</td>\n",
       "      <td>0.000000</td>\n",
       "      <td>0.000000</td>\n",
       "      <td>0.000000</td>\n",
       "      <td>0.000000</td>\n",
       "      <td>0.040559</td>\n",
       "      <td>0.000000</td>\n",
       "      <td>0.016456</td>\n",
       "      <td>0.000000</td>\n",
       "    </tr>\n",
       "    <tr>\n",
       "      <th>40%</th>\n",
       "      <td>56963.600000</td>\n",
       "      <td>35.58</td>\n",
       "      <td>0.725771</td>\n",
       "      <td>0.055825</td>\n",
       "      <td>0.001435</td>\n",
       "      <td>0.037337</td>\n",
       "      <td>0.000000</td>\n",
       "      <td>0.018347</td>\n",
       "      <td>0.021595</td>\n",
       "      <td>0.077678</td>\n",
       "      <td>0.064051</td>\n",
       "      <td>0.396659</td>\n",
       "      <td>0.239548</td>\n",
       "      <td>0.156830</td>\n",
       "      <td>12456.400000</td>\n",
       "    </tr>\n",
       "    <tr>\n",
       "      <th>50%</th>\n",
       "      <td>69728.500000</td>\n",
       "      <td>37.80</td>\n",
       "      <td>0.766824</td>\n",
       "      <td>0.080367</td>\n",
       "      <td>0.002208</td>\n",
       "      <td>0.054002</td>\n",
       "      <td>0.000000</td>\n",
       "      <td>0.021491</td>\n",
       "      <td>0.027897</td>\n",
       "      <td>0.104359</td>\n",
       "      <td>0.077361</td>\n",
       "      <td>0.424456</td>\n",
       "      <td>0.274037</td>\n",
       "      <td>0.178124</td>\n",
       "      <td>16354.000000</td>\n",
       "    </tr>\n",
       "    <tr>\n",
       "      <th>60%</th>\n",
       "      <td>81812.000000</td>\n",
       "      <td>39.26</td>\n",
       "      <td>0.796342</td>\n",
       "      <td>0.101325</td>\n",
       "      <td>0.002779</td>\n",
       "      <td>0.072390</td>\n",
       "      <td>0.000265</td>\n",
       "      <td>0.025422</td>\n",
       "      <td>0.030893</td>\n",
       "      <td>0.123695</td>\n",
       "      <td>0.097105</td>\n",
       "      <td>0.450315</td>\n",
       "      <td>0.307510</td>\n",
       "      <td>0.209332</td>\n",
       "      <td>18323.800000</td>\n",
       "    </tr>\n",
       "    <tr>\n",
       "      <th>max</th>\n",
       "      <td>216037.000000</td>\n",
       "      <td>55.60</td>\n",
       "      <td>0.989341</td>\n",
       "      <td>0.760590</td>\n",
       "      <td>0.136069</td>\n",
       "      <td>0.488290</td>\n",
       "      <td>0.104259</td>\n",
       "      <td>0.384390</td>\n",
       "      <td>0.191157</td>\n",
       "      <td>0.887213</td>\n",
       "      <td>0.417073</td>\n",
       "      <td>0.769231</td>\n",
       "      <td>0.440627</td>\n",
       "      <td>0.656643</td>\n",
       "      <td>65117.000000</td>\n",
       "    </tr>\n",
       "  </tbody>\n",
       "</table>\n",
       "</div>"
      ],
      "text/plain": [
       "             INCOME    AGE     WHITE     BLACK   NATAMER     ASIAN    PACISL  \\\n",
       "mean   76031.980769  37.85  0.699061  0.123149  0.006745  0.089312  0.003743   \n",
       "min    22401.000000  29.90  0.095601  0.003826  0.000000  0.000000  0.000000   \n",
       "40%    56963.600000  35.58  0.725771  0.055825  0.001435  0.037337  0.000000   \n",
       "50%    69728.500000  37.80  0.766824  0.080367  0.002208  0.054002  0.000000   \n",
       "60%    81812.000000  39.26  0.796342  0.101325  0.002779  0.072390  0.000265   \n",
       "max   216037.000000  55.60  0.989341  0.760590  0.136069  0.488290  0.104259   \n",
       "\n",
       "      OTHERRACE  MULTIRACE   HISPLAT   NOHSDIP  HSDIPSOMECOL        BA  \\\n",
       "mean   0.045753   0.032236  0.171723  0.116458      0.416471  0.261879   \n",
       "min    0.000000   0.000000  0.000000  0.000000      0.040559  0.000000   \n",
       "40%    0.018347   0.021595  0.077678  0.064051      0.396659  0.239548   \n",
       "50%    0.021491   0.027897  0.104359  0.077361      0.424456  0.274037   \n",
       "60%    0.025422   0.030893  0.123695  0.097105      0.450315  0.307510   \n",
       "max    0.384390   0.191157  0.887213  0.417073      0.769231  0.440627   \n",
       "\n",
       "          GRAD    POPULATION  \n",
       "mean  0.205191  17283.132075  \n",
       "min   0.016456      0.000000  \n",
       "40%   0.156830  12456.400000  \n",
       "50%   0.178124  16354.000000  \n",
       "60%   0.209332  18323.800000  \n",
       "max   0.656643  65117.000000  "
      ]
     },
     "execution_count": 10,
     "metadata": {},
     "output_type": "execute_result"
    }
   ],
   "source": [
    "# 25% threshold is 1, so select zips with sales > 1\n",
    "highsaleszips = saleszips[ ( saleszips.Sales > 1)]\n",
    "highsaleszipssum_df = highsaleszips.describe(percentiles=[.40,.50,.60])\n",
    "highsaleszipssum_df = highsaleszipssum_df.drop(highsaleszipssum_df.index[[0,2]])\n",
    "highsaleszipssum_df.drop(['Sales'],inplace=True,axis=1)\n",
    "highsaleszipssum_df"
   ]
  },
  {
   "cell_type": "markdown",
   "metadata": {},
   "source": [
    "<a id=\"insights\"></a>\n",
    "## Insights\n",
    "\n",
    "Let's create a table that shows the difference between the country as a whole versus zip codes with sales. This allows us to easily identify the major characteristics that define our customer base."
   ]
  },
  {
   "cell_type": "code",
   "execution_count": 11,
   "metadata": {
    "collapsed": false
   },
   "outputs": [
    {
     "data": {
      "text/html": [
       "<div>\n",
       "<table border=\"1\" class=\"dataframe\">\n",
       "  <thead>\n",
       "    <tr style=\"text-align: right;\">\n",
       "      <th></th>\n",
       "      <th>INCOME</th>\n",
       "      <th>AGE</th>\n",
       "      <th>WHITE</th>\n",
       "      <th>BLACK</th>\n",
       "      <th>NATAMER</th>\n",
       "      <th>ASIAN</th>\n",
       "      <th>PACISL</th>\n",
       "      <th>OTHERRACE</th>\n",
       "      <th>MULTIRACE</th>\n",
       "      <th>HISPLAT</th>\n",
       "      <th>NOHSDIP</th>\n",
       "      <th>HSDIPSOMECOL</th>\n",
       "      <th>BA</th>\n",
       "      <th>GRAD</th>\n",
       "      <th>POPULATION</th>\n",
       "    </tr>\n",
       "  </thead>\n",
       "  <tbody>\n",
       "    <tr>\n",
       "      <th>mean</th>\n",
       "      <td>52112.585863</td>\n",
       "      <td>41.495351</td>\n",
       "      <td>0.841515</td>\n",
       "      <td>0.076411</td>\n",
       "      <td>0.017566</td>\n",
       "      <td>0.019763</td>\n",
       "      <td>0.001062</td>\n",
       "      <td>0.021783</td>\n",
       "      <td>0.021899</td>\n",
       "      <td>0.084829</td>\n",
       "      <td>0.142982</td>\n",
       "      <td>0.635888</td>\n",
       "      <td>0.141745</td>\n",
       "      <td>0.079385</td>\n",
       "      <td>6262.068235</td>\n",
       "    </tr>\n",
       "    <tr>\n",
       "      <th>min</th>\n",
       "      <td>2499.000000</td>\n",
       "      <td>4.000000</td>\n",
       "      <td>0.000000</td>\n",
       "      <td>0.000000</td>\n",
       "      <td>0.000000</td>\n",
       "      <td>0.000000</td>\n",
       "      <td>0.000000</td>\n",
       "      <td>0.000000</td>\n",
       "      <td>0.000000</td>\n",
       "      <td>0.000000</td>\n",
       "      <td>0.000000</td>\n",
       "      <td>0.000000</td>\n",
       "      <td>0.000000</td>\n",
       "      <td>0.000000</td>\n",
       "      <td>0.000000</td>\n",
       "    </tr>\n",
       "    <tr>\n",
       "      <th>40%</th>\n",
       "      <td>43864.000000</td>\n",
       "      <td>39.400000</td>\n",
       "      <td>0.888687</td>\n",
       "      <td>0.003023</td>\n",
       "      <td>0.000000</td>\n",
       "      <td>0.000000</td>\n",
       "      <td>0.000000</td>\n",
       "      <td>0.000000</td>\n",
       "      <td>0.009633</td>\n",
       "      <td>0.016256</td>\n",
       "      <td>0.098551</td>\n",
       "      <td>0.629885</td>\n",
       "      <td>0.101979</td>\n",
       "      <td>0.044529</td>\n",
       "      <td>1121.000000</td>\n",
       "    </tr>\n",
       "    <tr>\n",
       "      <th>50%</th>\n",
       "      <td>47778.000000</td>\n",
       "      <td>41.100000</td>\n",
       "      <td>0.929005</td>\n",
       "      <td>0.008680</td>\n",
       "      <td>0.000930</td>\n",
       "      <td>0.002520</td>\n",
       "      <td>0.000000</td>\n",
       "      <td>0.002613</td>\n",
       "      <td>0.013994</td>\n",
       "      <td>0.026227</td>\n",
       "      <td>0.118819</td>\n",
       "      <td>0.658076</td>\n",
       "      <td>0.120989</td>\n",
       "      <td>0.055047</td>\n",
       "      <td>1885.000000</td>\n",
       "    </tr>\n",
       "    <tr>\n",
       "      <th>60%</th>\n",
       "      <td>52031.000000</td>\n",
       "      <td>42.900000</td>\n",
       "      <td>0.954310</td>\n",
       "      <td>0.019099</td>\n",
       "      <td>0.002237</td>\n",
       "      <td>0.005837</td>\n",
       "      <td>0.000000</td>\n",
       "      <td>0.006331</td>\n",
       "      <td>0.018782</td>\n",
       "      <td>0.040488</td>\n",
       "      <td>0.143008</td>\n",
       "      <td>0.683938</td>\n",
       "      <td>0.142688</td>\n",
       "      <td>0.067751</td>\n",
       "      <td>3337.800000</td>\n",
       "    </tr>\n",
       "    <tr>\n",
       "      <th>max</th>\n",
       "      <td>250001.000000</td>\n",
       "      <td>91.500000</td>\n",
       "      <td>1.000000</td>\n",
       "      <td>1.000000</td>\n",
       "      <td>1.000000</td>\n",
       "      <td>1.000000</td>\n",
       "      <td>0.610088</td>\n",
       "      <td>1.000000</td>\n",
       "      <td>1.000000</td>\n",
       "      <td>1.000000</td>\n",
       "      <td>1.000000</td>\n",
       "      <td>1.000000</td>\n",
       "      <td>1.000000</td>\n",
       "      <td>1.000000</td>\n",
       "      <td>73169.000000</td>\n",
       "    </tr>\n",
       "  </tbody>\n",
       "</table>\n",
       "</div>"
      ],
      "text/plain": [
       "             INCOME        AGE     WHITE     BLACK   NATAMER     ASIAN  \\\n",
       "mean   52112.585863  41.495351  0.841515  0.076411  0.017566  0.019763   \n",
       "min     2499.000000   4.000000  0.000000  0.000000  0.000000  0.000000   \n",
       "40%    43864.000000  39.400000  0.888687  0.003023  0.000000  0.000000   \n",
       "50%    47778.000000  41.100000  0.929005  0.008680  0.000930  0.002520   \n",
       "60%    52031.000000  42.900000  0.954310  0.019099  0.002237  0.005837   \n",
       "max   250001.000000  91.500000  1.000000  1.000000  1.000000  1.000000   \n",
       "\n",
       "        PACISL  OTHERRACE  MULTIRACE   HISPLAT   NOHSDIP  HSDIPSOMECOL  \\\n",
       "mean  0.001062   0.021783   0.021899  0.084829  0.142982      0.635888   \n",
       "min   0.000000   0.000000   0.000000  0.000000  0.000000      0.000000   \n",
       "40%   0.000000   0.000000   0.009633  0.016256  0.098551      0.629885   \n",
       "50%   0.000000   0.002613   0.013994  0.026227  0.118819      0.658076   \n",
       "60%   0.000000   0.006331   0.018782  0.040488  0.143008      0.683938   \n",
       "max   0.610088   1.000000   1.000000  1.000000  1.000000      1.000000   \n",
       "\n",
       "            BA      GRAD    POPULATION  \n",
       "mean  0.141745  0.079385   6262.068235  \n",
       "min   0.000000  0.000000      0.000000  \n",
       "40%   0.101979  0.044529   1121.000000  \n",
       "50%   0.120989  0.055047   1885.000000  \n",
       "60%   0.142688  0.067751   3337.800000  \n",
       "max   1.000000  1.000000  73169.000000  "
      ]
     },
     "execution_count": 11,
     "metadata": {},
     "output_type": "execute_result"
    }
   ],
   "source": [
    "summary_df = census_df.describe(percentiles=[0.4,0.5,0.6])\n",
    "summary_df = summary_df.drop(summary_df.index[[0,2]])\n",
    "summary_df"
   ]
  },
  {
   "cell_type": "code",
   "execution_count": 12,
   "metadata": {
    "collapsed": false
   },
   "outputs": [
    {
     "data": {
      "text/html": [
       "<div>\n",
       "<table border=\"1\" class=\"dataframe\">\n",
       "  <thead>\n",
       "    <tr style=\"text-align: right;\">\n",
       "      <th></th>\n",
       "      <th>INCOME</th>\n",
       "      <th>AGE</th>\n",
       "      <th>WHITE</th>\n",
       "      <th>BLACK</th>\n",
       "      <th>NATAMER</th>\n",
       "      <th>ASIAN</th>\n",
       "      <th>PACISL</th>\n",
       "      <th>OTHERRACE</th>\n",
       "      <th>MULTIRACE</th>\n",
       "      <th>HISPLAT</th>\n",
       "      <th>NOHSDIP</th>\n",
       "      <th>HSDIPSOMECOL</th>\n",
       "      <th>BA</th>\n",
       "      <th>GRAD</th>\n",
       "      <th>POPULATION</th>\n",
       "    </tr>\n",
       "  </thead>\n",
       "  <tbody>\n",
       "    <tr>\n",
       "      <th>mean</th>\n",
       "      <td>23919.394907</td>\n",
       "      <td>-3.645351</td>\n",
       "      <td>-0.142454</td>\n",
       "      <td>0.046738</td>\n",
       "      <td>-0.010821</td>\n",
       "      <td>0.069549</td>\n",
       "      <td>0.002680</td>\n",
       "      <td>0.023970</td>\n",
       "      <td>0.010337</td>\n",
       "      <td>0.086894</td>\n",
       "      <td>-0.026523</td>\n",
       "      <td>-0.219417</td>\n",
       "      <td>0.120134</td>\n",
       "      <td>0.125806</td>\n",
       "      <td>11021.063841</td>\n",
       "    </tr>\n",
       "    <tr>\n",
       "      <th>min</th>\n",
       "      <td>19902.000000</td>\n",
       "      <td>25.900000</td>\n",
       "      <td>0.095601</td>\n",
       "      <td>0.003826</td>\n",
       "      <td>0.000000</td>\n",
       "      <td>0.000000</td>\n",
       "      <td>0.000000</td>\n",
       "      <td>0.000000</td>\n",
       "      <td>0.000000</td>\n",
       "      <td>0.000000</td>\n",
       "      <td>0.000000</td>\n",
       "      <td>0.040559</td>\n",
       "      <td>0.000000</td>\n",
       "      <td>0.016456</td>\n",
       "      <td>0.000000</td>\n",
       "    </tr>\n",
       "    <tr>\n",
       "      <th>40%</th>\n",
       "      <td>13099.600000</td>\n",
       "      <td>-3.820000</td>\n",
       "      <td>-0.162916</td>\n",
       "      <td>0.052802</td>\n",
       "      <td>0.001435</td>\n",
       "      <td>0.037337</td>\n",
       "      <td>0.000000</td>\n",
       "      <td>0.018347</td>\n",
       "      <td>0.011962</td>\n",
       "      <td>0.061422</td>\n",
       "      <td>-0.034500</td>\n",
       "      <td>-0.233226</td>\n",
       "      <td>0.137569</td>\n",
       "      <td>0.112301</td>\n",
       "      <td>11335.400000</td>\n",
       "    </tr>\n",
       "    <tr>\n",
       "      <th>50%</th>\n",
       "      <td>21950.500000</td>\n",
       "      <td>-3.300000</td>\n",
       "      <td>-0.162181</td>\n",
       "      <td>0.071687</td>\n",
       "      <td>0.001277</td>\n",
       "      <td>0.051482</td>\n",
       "      <td>0.000000</td>\n",
       "      <td>0.018878</td>\n",
       "      <td>0.013903</td>\n",
       "      <td>0.078132</td>\n",
       "      <td>-0.041458</td>\n",
       "      <td>-0.233619</td>\n",
       "      <td>0.153049</td>\n",
       "      <td>0.123076</td>\n",
       "      <td>14469.000000</td>\n",
       "    </tr>\n",
       "    <tr>\n",
       "      <th>60%</th>\n",
       "      <td>29781.000000</td>\n",
       "      <td>-3.640000</td>\n",
       "      <td>-0.157968</td>\n",
       "      <td>0.082226</td>\n",
       "      <td>0.000542</td>\n",
       "      <td>0.066553</td>\n",
       "      <td>0.000265</td>\n",
       "      <td>0.019091</td>\n",
       "      <td>0.012111</td>\n",
       "      <td>0.083207</td>\n",
       "      <td>-0.045903</td>\n",
       "      <td>-0.233622</td>\n",
       "      <td>0.164821</td>\n",
       "      <td>0.141581</td>\n",
       "      <td>14986.000000</td>\n",
       "    </tr>\n",
       "    <tr>\n",
       "      <th>max</th>\n",
       "      <td>-33964.000000</td>\n",
       "      <td>-35.900000</td>\n",
       "      <td>-0.010659</td>\n",
       "      <td>-0.239410</td>\n",
       "      <td>-0.863931</td>\n",
       "      <td>-0.511710</td>\n",
       "      <td>-0.505829</td>\n",
       "      <td>-0.615610</td>\n",
       "      <td>-0.808843</td>\n",
       "      <td>-0.112787</td>\n",
       "      <td>-0.582927</td>\n",
       "      <td>-0.230769</td>\n",
       "      <td>-0.559373</td>\n",
       "      <td>-0.343357</td>\n",
       "      <td>-8052.000000</td>\n",
       "    </tr>\n",
       "  </tbody>\n",
       "</table>\n",
       "</div>"
      ],
      "text/plain": [
       "            INCOME        AGE     WHITE     BLACK   NATAMER     ASIAN  \\\n",
       "mean  23919.394907  -3.645351 -0.142454  0.046738 -0.010821  0.069549   \n",
       "min   19902.000000  25.900000  0.095601  0.003826  0.000000  0.000000   \n",
       "40%   13099.600000  -3.820000 -0.162916  0.052802  0.001435  0.037337   \n",
       "50%   21950.500000  -3.300000 -0.162181  0.071687  0.001277  0.051482   \n",
       "60%   29781.000000  -3.640000 -0.157968  0.082226  0.000542  0.066553   \n",
       "max  -33964.000000 -35.900000 -0.010659 -0.239410 -0.863931 -0.511710   \n",
       "\n",
       "        PACISL  OTHERRACE  MULTIRACE   HISPLAT   NOHSDIP  HSDIPSOMECOL  \\\n",
       "mean  0.002680   0.023970   0.010337  0.086894 -0.026523     -0.219417   \n",
       "min   0.000000   0.000000   0.000000  0.000000  0.000000      0.040559   \n",
       "40%   0.000000   0.018347   0.011962  0.061422 -0.034500     -0.233226   \n",
       "50%   0.000000   0.018878   0.013903  0.078132 -0.041458     -0.233619   \n",
       "60%   0.000265   0.019091   0.012111  0.083207 -0.045903     -0.233622   \n",
       "max  -0.505829  -0.615610  -0.808843 -0.112787 -0.582927     -0.230769   \n",
       "\n",
       "            BA      GRAD    POPULATION  \n",
       "mean  0.120134  0.125806  11021.063841  \n",
       "min   0.000000  0.016456      0.000000  \n",
       "40%   0.137569  0.112301  11335.400000  \n",
       "50%   0.153049  0.123076  14469.000000  \n",
       "60%   0.164821  0.141581  14986.000000  \n",
       "max  -0.559373 -0.343357  -8052.000000  "
      ]
     },
     "execution_count": 12,
     "metadata": {},
     "output_type": "execute_result"
    }
   ],
   "source": [
    "salesdiff_df = highsaleszipssum_df.sub(summary_df)\n",
    "salesdiff_df"
   ]
  },
  {
   "cell_type": "markdown",
   "metadata": {},
   "source": [
    "<a id=\"summary\"></a>\n",
    "### Here's what this table shows us.\n",
    "\n",
    "#### Incomes are much higher\n",
    "Median household income overall is about $22,000 higher than the country as a whole, which is **very** significant as that represents a nearly 50% increase in income in these zip codes we sell to.\n",
    "\n",
    "#### Education is greater\n",
    "The percentage of people with high school diplomas but no college degree is almost 24% lower in our sales zips, and that is compensated by a much greater number of college grads (16% higher) and people with graduate degrees of some sort (12% higher). \n",
    "\n",
    "#### People are a little younger\n",
    "Males and females are about 3 1/2 years younger in our zip codes than in the country as a whole.\n",
    "\n",
    "\n",
    "#### White population is lower\n",
    "The white population is lower, and there is a corresponding higher number of other races.\n",
    "\n"
   ]
  },
  {
   "cell_type": "markdown",
   "metadata": {},
   "source": [
    "<a id=\"zipfind\"></a>\n",
    "## Finding high potential zip codes\n",
    "\n",
    "Here we take the variables we found to best explain the population of sales areas, and we look for other zip codes whose demographic characteristics for those variables are within 10 percentage points of the median.\n"
   ]
  },
  {
   "cell_type": "code",
   "execution_count": 13,
   "metadata": {
    "collapsed": false
   },
   "outputs": [
    {
     "data": {
      "text/html": [
       "<div>\n",
       "<table border=\"1\" class=\"dataframe\">\n",
       "  <thead>\n",
       "    <tr style=\"text-align: right;\">\n",
       "      <th></th>\n",
       "      <th>INCOME</th>\n",
       "      <th>AGE</th>\n",
       "      <th>WHITE</th>\n",
       "      <th>BLACK</th>\n",
       "      <th>NATAMER</th>\n",
       "      <th>ASIAN</th>\n",
       "      <th>PACISL</th>\n",
       "      <th>OTHERRACE</th>\n",
       "      <th>MULTIRACE</th>\n",
       "      <th>HISPLAT</th>\n",
       "      <th>NOHSDIP</th>\n",
       "      <th>HSDIPSOMECOL</th>\n",
       "      <th>BA</th>\n",
       "      <th>GRAD</th>\n",
       "      <th>POPULATION</th>\n",
       "    </tr>\n",
       "  </thead>\n",
       "  <tbody>\n",
       "    <tr>\n",
       "      <th>count</th>\n",
       "      <td>38.000000</td>\n",
       "      <td>38.000000</td>\n",
       "      <td>38.000000</td>\n",
       "      <td>38.000000</td>\n",
       "      <td>38.000000</td>\n",
       "      <td>38.000000</td>\n",
       "      <td>38.000000</td>\n",
       "      <td>38.000000</td>\n",
       "      <td>38.000000</td>\n",
       "      <td>38.000000</td>\n",
       "      <td>38.000000</td>\n",
       "      <td>38.000000</td>\n",
       "      <td>38.000000</td>\n",
       "      <td>38.000000</td>\n",
       "      <td>38.000000</td>\n",
       "    </tr>\n",
       "    <tr>\n",
       "      <th>mean</th>\n",
       "      <td>70446.605263</td>\n",
       "      <td>37.463158</td>\n",
       "      <td>0.768633</td>\n",
       "      <td>0.085920</td>\n",
       "      <td>0.005015</td>\n",
       "      <td>0.076523</td>\n",
       "      <td>0.000892</td>\n",
       "      <td>0.034307</td>\n",
       "      <td>0.028710</td>\n",
       "      <td>0.129219</td>\n",
       "      <td>0.075874</td>\n",
       "      <td>0.480398</td>\n",
       "      <td>0.270187</td>\n",
       "      <td>0.173540</td>\n",
       "      <td>23031.210526</td>\n",
       "    </tr>\n",
       "    <tr>\n",
       "      <th>std</th>\n",
       "      <td>6742.784887</td>\n",
       "      <td>1.088371</td>\n",
       "      <td>0.016332</td>\n",
       "      <td>0.053489</td>\n",
       "      <td>0.006879</td>\n",
       "      <td>0.045081</td>\n",
       "      <td>0.001449</td>\n",
       "      <td>0.033679</td>\n",
       "      <td>0.013181</td>\n",
       "      <td>0.103808</td>\n",
       "      <td>0.040426</td>\n",
       "      <td>0.071450</td>\n",
       "      <td>0.021725</td>\n",
       "      <td>0.067237</td>\n",
       "      <td>9070.647905</td>\n",
       "    </tr>\n",
       "    <tr>\n",
       "      <th>min</th>\n",
       "      <td>56989.000000</td>\n",
       "      <td>35.600000</td>\n",
       "      <td>0.734561</td>\n",
       "      <td>0.004204</td>\n",
       "      <td>0.000000</td>\n",
       "      <td>0.010085</td>\n",
       "      <td>0.000000</td>\n",
       "      <td>0.001946</td>\n",
       "      <td>0.005835</td>\n",
       "      <td>0.003232</td>\n",
       "      <td>0.026752</td>\n",
       "      <td>0.284136</td>\n",
       "      <td>0.240809</td>\n",
       "      <td>0.095628</td>\n",
       "      <td>8661.000000</td>\n",
       "    </tr>\n",
       "    <tr>\n",
       "      <th>25%</th>\n",
       "      <td>65683.000000</td>\n",
       "      <td>36.700000</td>\n",
       "      <td>0.758709</td>\n",
       "      <td>0.031806</td>\n",
       "      <td>0.001363</td>\n",
       "      <td>0.035986</td>\n",
       "      <td>0.000000</td>\n",
       "      <td>0.012179</td>\n",
       "      <td>0.021300</td>\n",
       "      <td>0.044803</td>\n",
       "      <td>0.054869</td>\n",
       "      <td>0.445958</td>\n",
       "      <td>0.252169</td>\n",
       "      <td>0.134817</td>\n",
       "      <td>17189.000000</td>\n",
       "    </tr>\n",
       "    <tr>\n",
       "      <th>50%</th>\n",
       "      <td>71264.500000</td>\n",
       "      <td>37.500000</td>\n",
       "      <td>0.769553</td>\n",
       "      <td>0.081308</td>\n",
       "      <td>0.002594</td>\n",
       "      <td>0.069844</td>\n",
       "      <td>0.000169</td>\n",
       "      <td>0.026639</td>\n",
       "      <td>0.023845</td>\n",
       "      <td>0.103528</td>\n",
       "      <td>0.059818</td>\n",
       "      <td>0.495970</td>\n",
       "      <td>0.266366</td>\n",
       "      <td>0.152044</td>\n",
       "      <td>22907.500000</td>\n",
       "    </tr>\n",
       "    <tr>\n",
       "      <th>75%</th>\n",
       "      <td>75855.750000</td>\n",
       "      <td>38.275000</td>\n",
       "      <td>0.782585</td>\n",
       "      <td>0.139436</td>\n",
       "      <td>0.005690</td>\n",
       "      <td>0.114887</td>\n",
       "      <td>0.001007</td>\n",
       "      <td>0.040903</td>\n",
       "      <td>0.034961</td>\n",
       "      <td>0.182670</td>\n",
       "      <td>0.083850</td>\n",
       "      <td>0.521748</td>\n",
       "      <td>0.288145</td>\n",
       "      <td>0.188011</td>\n",
       "      <td>27507.250000</td>\n",
       "    </tr>\n",
       "    <tr>\n",
       "      <th>max</th>\n",
       "      <td>81570.000000</td>\n",
       "      <td>39.200000</td>\n",
       "      <td>0.795636</td>\n",
       "      <td>0.194423</td>\n",
       "      <td>0.030930</td>\n",
       "      <td>0.174340</td>\n",
       "      <td>0.005354</td>\n",
       "      <td>0.166911</td>\n",
       "      <td>0.056916</td>\n",
       "      <td>0.400737</td>\n",
       "      <td>0.230875</td>\n",
       "      <td>0.591778</td>\n",
       "      <td>0.307421</td>\n",
       "      <td>0.399583</td>\n",
       "      <td>52815.000000</td>\n",
       "    </tr>\n",
       "  </tbody>\n",
       "</table>\n",
       "</div>"
      ],
      "text/plain": [
       "             INCOME        AGE      WHITE      BLACK    NATAMER      ASIAN  \\\n",
       "count     38.000000  38.000000  38.000000  38.000000  38.000000  38.000000   \n",
       "mean   70446.605263  37.463158   0.768633   0.085920   0.005015   0.076523   \n",
       "std     6742.784887   1.088371   0.016332   0.053489   0.006879   0.045081   \n",
       "min    56989.000000  35.600000   0.734561   0.004204   0.000000   0.010085   \n",
       "25%    65683.000000  36.700000   0.758709   0.031806   0.001363   0.035986   \n",
       "50%    71264.500000  37.500000   0.769553   0.081308   0.002594   0.069844   \n",
       "75%    75855.750000  38.275000   0.782585   0.139436   0.005690   0.114887   \n",
       "max    81570.000000  39.200000   0.795636   0.194423   0.030930   0.174340   \n",
       "\n",
       "          PACISL  OTHERRACE  MULTIRACE    HISPLAT    NOHSDIP  HSDIPSOMECOL  \\\n",
       "count  38.000000  38.000000  38.000000  38.000000  38.000000     38.000000   \n",
       "mean    0.000892   0.034307   0.028710   0.129219   0.075874      0.480398   \n",
       "std     0.001449   0.033679   0.013181   0.103808   0.040426      0.071450   \n",
       "min     0.000000   0.001946   0.005835   0.003232   0.026752      0.284136   \n",
       "25%     0.000000   0.012179   0.021300   0.044803   0.054869      0.445958   \n",
       "50%     0.000169   0.026639   0.023845   0.103528   0.059818      0.495970   \n",
       "75%     0.001007   0.040903   0.034961   0.182670   0.083850      0.521748   \n",
       "max     0.005354   0.166911   0.056916   0.400737   0.230875      0.591778   \n",
       "\n",
       "              BA       GRAD    POPULATION  \n",
       "count  38.000000  38.000000     38.000000  \n",
       "mean    0.270187   0.173540  23031.210526  \n",
       "std     0.021725   0.067237   9070.647905  \n",
       "min     0.240809   0.095628   8661.000000  \n",
       "25%     0.252169   0.134817  17189.000000  \n",
       "50%     0.266366   0.152044  22907.500000  \n",
       "75%     0.288145   0.188011  27507.250000  \n",
       "max     0.307421   0.399583  52815.000000  "
      ]
     },
     "execution_count": 13,
     "metadata": {},
     "output_type": "execute_result"
    }
   ],
   "source": [
    "censusgood_df = census_df [\n",
    "    ( census_df.INCOME > highsaleszipssum_df.loc['40%','INCOME'] )\n",
    "    & ( census_df.INCOME < highsaleszipssum_df.loc['60%','INCOME'] )\n",
    "    & ( census_df.AGE > highsaleszipssum_df.loc['40%','AGE'] )\n",
    "    & ( census_df.AGE < highsaleszipssum_df.loc['60%','AGE'] )\n",
    "    & ( census_df.BA > highsaleszipssum_df.loc['40%','BA'] )\n",
    "    & ( census_df.BA < highsaleszipssum_df.loc['60%','BA'] )\n",
    "    & ( census_df.WHITE > highsaleszipssum_df.loc['40%','WHITE'] )\n",
    "    & ( census_df.WHITE < highsaleszipssum_df.loc['60%','WHITE'] )\n",
    "    ]\n",
    "censusgood_df.describe()"
   ]
  },
  {
   "cell_type": "markdown",
   "metadata": {},
   "source": [
    "<a id=\"targetregions\"></a>\n",
    "### Target regions\n",
    "\n",
    "Here we list the matching zip codes. From this point you could use this list in a variety of ways. Here are some ideas: \n",
    "- Guidance for where to spend marketing dollars\n",
    "- Filter existing direct mail lists to target those most likely to buy\n",
    "- Guidance on where to build retail outlets, or if you're a wholesaler, where you want to get your products retailed.\n"
   ]
  },
  {
   "cell_type": "code",
   "execution_count": 14,
   "metadata": {
    "collapsed": false
   },
   "outputs": [
    {
     "data": {
      "text/plain": [
       "['86000US06119',\n",
       " '86000US07012',\n",
       " '86000US11209',\n",
       " '86000US15220',\n",
       " '86000US21209',\n",
       " '86000US27511',\n",
       " '86000US28075',\n",
       " '86000US29414',\n",
       " '86000US30101',\n",
       " '86000US30152',\n",
       " '86000US30265',\n",
       " '86000US32819',\n",
       " '86000US33071',\n",
       " '86000US33324',\n",
       " '86000US33414',\n",
       " '86000US43230',\n",
       " '86000US48083',\n",
       " '86000US48103',\n",
       " '86000US48187',\n",
       " '86000US55116',\n",
       " '86000US55337',\n",
       " '86000US55406',\n",
       " '86000US60070',\n",
       " '86000US60188',\n",
       " '86000US60542',\n",
       " '86000US61615',\n",
       " '86000US61822',\n",
       " '86000US62269',\n",
       " '86000US73170',\n",
       " '86000US75229',\n",
       " '86000US85044',\n",
       " '86000US91504',\n",
       " '86000US91505',\n",
       " '86000US92373',\n",
       " '86000US93940',\n",
       " '86000US94061',\n",
       " '86000US97086',\n",
       " '86000US98011']"
      ]
     },
     "execution_count": 14,
     "metadata": {},
     "output_type": "execute_result"
    }
   ],
   "source": [
    "censusgood_df.index.tolist()"
   ]
  },
  {
   "cell_type": "markdown",
   "metadata": {},
   "source": [
    "### Update data tables in CartoDB"
   ]
  },
  {
   "cell_type": "code",
   "execution_count": 15,
   "metadata": {
    "collapsed": false
   },
   "outputs": [],
   "source": [
    "#!pip install --user cartodb\n",
    "# Set up cartodb module for use\n",
    "from cartodb import CartoDBAPIKey, CartoDBException\n",
    "API_KEY = os.environ['CARTODB_APIKEY']\n",
    "CARTODB_ACCOUNT = os.environ['CARTODB_ACCOUNT']\n",
    "cl = CartoDBAPIKey(API_KEY, CARTODB_ACCOUNT)"
   ]
  },
  {
   "cell_type": "markdown",
   "metadata": {},
   "source": [
    "#### Update Sales table in CartoDB"
   ]
  },
  {
   "cell_type": "code",
   "execution_count": 16,
   "metadata": {
    "collapsed": false
   },
   "outputs": [],
   "source": [
    "# output good Census zips to a list\n",
    "ziplist = highsaleszips.index.tolist()"
   ]
  },
  {
   "cell_type": "code",
   "execution_count": 18,
   "metadata": {
    "collapsed": true
   },
   "outputs": [],
   "source": [
    "# generate PostgreSQL INSERT statements for CartoDB\n",
    "insertsql = ';'.join(map(lambda x: \"INSERT INTO highsaleszips(zipcode) VALUES ('%s')\" %x, ziplist))"
   ]
  },
  {
   "cell_type": "code",
   "execution_count": 19,
   "metadata": {
    "collapsed": false
   },
   "outputs": [
    {
     "name": "stdout",
     "output_type": "stream",
     "text": [
      "{u'fields': {}, u'rows': [], u'total_rows': 53, u'time': 0.071}\n",
      "{u'fields': {}, u'rows': [], u'total_rows': 1, u'time': 0.358}\n"
     ]
    }
   ],
   "source": [
    "# update sales table\n",
    "try:\n",
    "    print(cl.sql('delete from highsaleszips'))\n",
    "    print(cl.sql(insertsql))\n",
    "except CartoDBException as e:\n",
    "    print(\"some error ocurred\", e)"
   ]
  },
  {
   "cell_type": "markdown",
   "metadata": {},
   "source": [
    "#### Update prospective zip codes  in CartoDB"
   ]
  },
  {
   "cell_type": "code",
   "execution_count": 20,
   "metadata": {
    "collapsed": true
   },
   "outputs": [],
   "source": [
    "# output good Census zips to a list\n",
    "ziplist = censusgood_df.index.tolist()"
   ]
  },
  {
   "cell_type": "code",
   "execution_count": 21,
   "metadata": {
    "collapsed": true
   },
   "outputs": [],
   "source": [
    "# generate PostgreSQL INSERT statements for CartoDB\n",
    "insertsql = ';'.join(map(lambda x: \"INSERT INTO prospectzips(zipcode) VALUES ('%s')\" %x, ziplist))"
   ]
  },
  {
   "cell_type": "code",
   "execution_count": 22,
   "metadata": {
    "collapsed": false
   },
   "outputs": [
    {
     "name": "stdout",
     "output_type": "stream",
     "text": [
      "{u'fields': {}, u'rows': [], u'total_rows': 38, u'time': 0.016}\n",
      "{u'fields': {}, u'rows': [], u'total_rows': 1, u'time': 0.21}\n"
     ]
    }
   ],
   "source": [
    "try:\n",
    "    print(cl.sql('delete from prospectzips'))\n",
    "    print(cl.sql(insertsql))\n",
    "except CartoDBException as e:\n",
    "    print(\"some error ocurred\", e)"
   ]
  },
  {
   "cell_type": "markdown",
   "metadata": {},
   "source": [
    "<a id=\"mapping\"></a>\n",
    "## Display the dynamic map"
   ]
  },
  {
   "cell_type": "code",
   "execution_count": 23,
   "metadata": {
    "collapsed": false
   },
   "outputs": [
    {
     "data": {
      "application/javascript": [
       "element.append('<link rel=\"stylesheet\" href=\"http://libs.cartocdn.com/cartodb.js/v3/3.15/themes/css/cartodb.css\" />');\n",
       "element.append('<h2>High value target sales areas</h2>');\n",
       "element.append('<div id=\"map\" style=\"height:450px;width:850px;padding:0;margin:0\"></div>');\n",
       "\n",
       "require.config({\n",
       "  paths: {\n",
       "      cartodblib: '//libs.cartocdn.com/cartodb.js/v3/3.15/cartodb'\n",
       "  }\n",
       "});\n",
       "\n",
       "var main = function() {\n",
       "  cartodb.createVis('map', 'https://ibmanalytics.cartodb.com/u/ibm/api/v2/viz/2bd6ea76-9f7f-11e5-a024-0e674067d321/viz.json', {\n",
       "      shareable: true,title: true,description: true,search: true,tiles_loader: true,\n",
       "      center_lat: 40, center_lon: -100, zoom: 3\n",
       "  })\n",
       "  .done(function(vis, layers) {\n",
       "    // layer 0 is the base layer, layer 1 is cartodb layer\n",
       "    //layers[1].setInteraction(true);\n",
       "    //layers[1].on('featureOver', function(e, latlng, pos, data) {\n",
       "    //  cartodb.log.log(e, latlng, pos, data);\n",
       "    //});\n",
       "    //var map = vis.getNativeMap(); // get the native map to work with it\n",
       "  })\n",
       "  .error(function(err) {\n",
       "    console.log(err);\n",
       "  });\n",
       "}\n",
       "\n",
       "require(['cartodblib'], main);"
      ],
      "text/plain": [
       "<IPython.core.display.Javascript object>"
      ]
     },
     "metadata": {},
     "output_type": "display_data"
    }
   ],
   "source": [
    "%%javascript\n",
    "element.append('<link rel=\"stylesheet\" href=\"http://libs.cartocdn.com/cartodb.js/v3/3.15/themes/css/cartodb.css\" />');\n",
    "element.append('<h2>High value target sales areas</h2>');\n",
    "element.append('<div id=\"map\" style=\"height:450px;width:768px;padding:0;margin:0\"></div>');\n",
    "\n",
    "require.config({\n",
    "  paths: {\n",
    "      cartodblib: '//libs.cartocdn.com/cartodb.js/v3/3.15/cartodb'\n",
    "  }\n",
    "});\n",
    "\n",
    "var main = function() {\n",
    "  cartodb.createVis('map', 'https://ibmanalytics.cartodb.com/u/ibm/api/v2/viz/2bd6ea76-9f7f-11e5-a024-0e674067d321/viz.json', {\n",
    "      shareable: true,title: true,description: true,search: true,tiles_loader: true,\n",
    "      center_lat: 40, center_lon: -100, zoom: 3\n",
    "  })\n",
    "  .done(function(vis, layers) {\n",
    "    // layer 0 is the base layer, layer 1 is cartodb layer\n",
    "    //layers[1].setInteraction(true);\n",
    "    //layers[1].on('featureOver', function(e, latlng, pos, data) {\n",
    "    //  cartodb.log.log(e, latlng, pos, data);\n",
    "    //});\n",
    "    //var map = vis.getNativeMap(); // get the native map to work with it\n",
    "  })\n",
    "  .error(function(err) {\n",
    "    console.log(err);\n",
    "  });\n",
    "}\n",
    "\n",
    "require(['cartodblib'], main);"
   ]
  },
  {
   "cell_type": "markdown",
   "metadata": {
    "collapsed": true
   },
   "source": [
    "# The end"
   ]
  },
  {
   "cell_type": "markdown",
   "metadata": {},
   "source": [
    "# Appendices"
   ]
  },
  {
   "cell_type": "markdown",
   "metadata": {},
   "source": [
    "<a id=\"correlation\"></a>\n",
    "## Appendix A: Examining correlation\n",
    "\n",
    "In this section, we take a quick look at the correlation coefficients of many of our variables of interest to make sure it's worth looking at each one separately. This function computes the [Pearson product-moment correlation coefficient](https://en.wikipedia.org/wiki/Pearson_product-moment_correlation_coefficient), which looks at two variables and computes a number between -1 and 1, where -1 is perfect negative correlation, 1 is perfect positive correlation, and 0 is no correlation. \n",
    "\n",
    "None of our variables of interest have a particularly strong correlation with each other (except for the obvious ones like income with bachelor's (BA) or graduate degree (GRAD)), so we can proceed with analysis knowing that it's worth looking at all of them. "
   ]
  },
  {
   "cell_type": "code",
   "execution_count": 23,
   "metadata": {
    "collapsed": false,
    "scrolled": true
   },
   "outputs": [
    {
     "data": {
      "image/png": "[encoded data removed]",
      "text/plain": [
       "<matplotlib.figure.Figure at 0x10f1e1410>"
      ]
     },
     "metadata": {},
     "output_type": "display_data"
    }
   ],
   "source": [
    "corr = census_df.corr()\n",
    "\n",
    "# Generate a mask for the upper triangle\n",
    "mask = np.zeros_like(corr, dtype=np.bool)\n",
    "mask[np.triu_indices_from(mask)] = True\n",
    "\n",
    "# Set up the matplotlib figure\n",
    "f, ax = plt.subplots(figsize=(11, 9))\n",
    "\n",
    "# Generate a custom diverging colormap\n",
    "cmap = sns.diverging_palette(10, 200, as_cmap=True)\n",
    "\n",
    "# Draw the heatmap with the mask and correct aspect ratio\n",
    "sns.heatmap(corr, mask=mask, cmap=cmap, vmax=.3,\n",
    "            square=True,\n",
    "            linewidths=.5, cbar_kws={\"shrink\": .5}, ax=ax)\n",
    "plt.title('Correlation Matrix', size=20)\n",
    "plt.show()"
   ]
  },
  {
   "cell_type": "markdown",
   "metadata": {},
   "source": [
    "<a id=\"viz\"></a>\n",
    "## Appendix B: Visualizing Customer Demograpics vs. the Nation"
   ]
  },
  {
   "cell_type": "code",
   "execution_count": 24,
   "metadata": {
    "collapsed": false
   },
   "outputs": [],
   "source": [
    "%matplotlib inline\n",
    "plt.rcParams['figure.figsize'] = (16, 8)\n",
    "highzipaxlabel = '# of zips - zips with high sales'\n",
    "nationalaxlabel = '# of zips - nation'"
   ]
  },
  {
   "cell_type": "markdown",
   "metadata": {},
   "source": [
    "### Income"
   ]
  },
  {
   "cell_type": "code",
   "execution_count": 25,
   "metadata": {
    "collapsed": false
   },
   "outputs": [
    {
     "data": {
      "image/png": "[encoded data removed]",
      "text/plain": [
       "<matplotlib.figure.Figure at 0x10e6dbd90>"
      ]
     },
     "metadata": {},
     "output_type": "display_data"
    }
   ],
   "source": [
    "fig = plt.figure()\n",
    "common_params = dict(bins=20, alpha=0.85, range=(0.0,100000))\n",
    "\n",
    "ax = fig.add_subplot(211)\n",
    "plt.hist(highsaleszips['INCOME'], label='Sales Zips', **common_params)\n",
    "ax.set_ylabel(highzipaxlabel)\n",
    "ax.axhline(0, color='gray', lw=2)\n",
    "\n",
    "ax_national = ax.twinx()\n",
    "ax_national.set_ylabel(nationalaxlabel)\n",
    "ax_national.hist(census_df['INCOME'], label='Nation', histtype='step', linewidth=3, color='orange', **common_params)\n",
    "\n",
    "plt.title(\"Median Income\")\n",
    "plt.legend(loc='upper right')\n",
    "plt.show()"
   ]
  },
  {
   "cell_type": "markdown",
   "metadata": {},
   "source": [
    "## Age"
   ]
  },
  {
   "cell_type": "code",
   "execution_count": 26,
   "metadata": {
    "collapsed": false
   },
   "outputs": [
    {
     "data": {
      "image/png": "[encoded data removed]",
      "text/plain": [
       "<matplotlib.figure.Figure at 0x10f70cc50>"
      ]
     },
     "metadata": {},
     "output_type": "display_data"
    }
   ],
   "source": [
    "fig = plt.figure()\n",
    "common_params = dict(bins=20, alpha=0.85, range=(20,60))\n",
    "\n",
    "ax = fig.add_subplot(211)\n",
    "plt.hist(highsaleszips['AGE'], label='Sales Zips', **common_params)\n",
    "ax.set_ylabel(highzipaxlabel)\n",
    "ax.axhline(0, color='gray', lw=2)\n",
    "\n",
    "ax_national = ax.twinx()\n",
    "ax_national.set_ylabel(nationalaxlabel)\n",
    "ax_national.hist(census_df['AGE'], label='National distribution', histtype='step', linewidth=3, color='orange', **common_params)\n",
    "\n",
    "plt.title(\"Median Age\")\n",
    "plt.legend(loc='upper right')\n",
    "plt.show()"
   ]
  },
  {
   "cell_type": "markdown",
   "metadata": {},
   "source": [
    "## No High School diploma"
   ]
  },
  {
   "cell_type": "code",
   "execution_count": 27,
   "metadata": {
    "collapsed": false
   },
   "outputs": [
    {
     "data": {
      "image/png": "[encoded data removed]",
      "text/plain": [
       "<matplotlib.figure.Figure at 0x1107a4f10>"
      ]
     },
     "metadata": {},
     "output_type": "display_data"
    }
   ],
   "source": [
    "fig = plt.figure()\n",
    "common_params = dict(bins=20, alpha=0.85, range=(0,0.5))\n",
    "\n",
    "ax = fig.add_subplot(211)\n",
    "plt.hist(highsaleszips['NOHSDIP'], label='Sales Zips', **common_params)\n",
    "ax.set_ylabel(highzipaxlabel)\n",
    "ax.axhline(0, color='gray', lw=2)\n",
    "\n",
    "ax_national = ax.twinx()\n",
    "ax_national.set_ylabel(nationalaxlabel)\n",
    "ax_national.hist(census_df['NOHSDIP'], label='National distribution', histtype='step', linewidth=3, color='orange', **common_params)\n",
    "\n",
    "plt.title(\"Proportion with no High School Diploma\")\n",
    "plt.legend(loc='upper right')\n",
    "plt.show()"
   ]
  },
  {
   "cell_type": "markdown",
   "metadata": {},
   "source": [
    "## Bachelor's degree"
   ]
  },
  {
   "cell_type": "code",
   "execution_count": 28,
   "metadata": {
    "collapsed": false
   },
   "outputs": [
    {
     "data": {
      "image/png": "[encoded data removed]",
      "text/plain": [
       "<matplotlib.figure.Figure at 0x112044ed0>"
      ]
     },
     "metadata": {},
     "output_type": "display_data"
    }
   ],
   "source": [
    "fig = plt.figure()\n",
    "common_params = dict(bins=20, alpha=0.85, range=(0,0.5))\n",
    "\n",
    "ax = fig.add_subplot(211)\n",
    "plt.hist(highsaleszips['BA'], label='Sales Zips', **common_params)\n",
    "ax.set_ylabel(highzipaxlabel)\n",
    "ax.axhline(0, color='gray', lw=2)\n",
    "\n",
    "ax_national = ax.twinx()\n",
    "ax_national.set_ylabel(nationalaxlabel)\n",
    "ax_national.hist(census_df['BA'], label='National distribution', histtype='step', linewidth=3, color='orange', **common_params)\n",
    "\n",
    "plt.title(\"Proportion with Bachelors Degree\")\n",
    "plt.legend(loc='upper right')\n",
    "plt.show()"
   ]
  },
  {
   "cell_type": "markdown",
   "metadata": {},
   "source": [
    "## White race"
   ]
  },
  {
   "cell_type": "code",
   "execution_count": 29,
   "metadata": {
    "collapsed": false
   },
   "outputs": [
    {
     "data": {
      "image/png": "[encoded data removed]",
      "text/plain": [
       "<matplotlib.figure.Figure at 0x1107a4a50>"
      ]
     },
     "metadata": {},
     "output_type": "display_data"
    }
   ],
   "source": [
    "fig = plt.figure()\n",
    "common_params = dict(bins=20, alpha=0.85, range=(0,1))\n",
    "\n",
    "ax = fig.add_subplot(211)\n",
    "plt.hist(highsaleszips['WHITE'], label='Sales Zips', **common_params)\n",
    "ax.set_ylabel(highzipaxlabel)\n",
    "ax.axhline(0, color='gray', lw=2)\n",
    "\n",
    "ax_national = ax.twinx()\n",
    "ax_national.set_ylabel(nationalaxlabel)\n",
    "ax_national.hist(census_df['WHITE'], label='National distribution', histtype='step', linewidth=3, color='orange', **common_params)\n",
    "\n",
    "plt.title(\"Proportion, White race\")\n",
    "plt.legend(loc='upper right')\n",
    "plt.show()"
   ]
  },
  {
   "cell_type": "markdown",
   "metadata": {},
   "source": [
    "## Black race"
   ]
  },
  {
   "cell_type": "code",
   "execution_count": 30,
   "metadata": {
    "collapsed": false
   },
   "outputs": [
    {
     "data": {
      "image/png": "[encoded data removed]",
      "text/plain": [
       "<matplotlib.figure.Figure at 0x1122a2f90>"
      ]
     },
     "metadata": {},
     "output_type": "display_data"
    }
   ],
   "source": [
    "fig = plt.figure()\n",
    "common_params = dict(bins=20, alpha=0.85, range=(0,0.4))\n",
    "\n",
    "ax = fig.add_subplot(211)\n",
    "plt.hist(highsaleszips['BLACK'], label='Sales Zips', **common_params)\n",
    "ax.set_ylabel(highzipaxlabel)\n",
    "ax.axhline(0, color='gray', lw=2)\n",
    "\n",
    "ax_national = ax.twinx()\n",
    "ax_national.set_ylabel(nationalaxlabel)\n",
    "ax_national.hist(census_df['BLACK'], label='National distribution', histtype='step', linewidth=3, color='orange', **common_params)\n",
    "\n",
    "plt.title(\"Proportion, Black race\")\n",
    "plt.legend(loc='upper right')\n",
    "plt.show()"
   ]
  },
  {
   "cell_type": "markdown",
   "metadata": {},
   "source": [
    "## Asian race"
   ]
  },
  {
   "cell_type": "code",
   "execution_count": 31,
   "metadata": {
    "collapsed": false
   },
   "outputs": [
    {
     "data": {
      "image/png": "[encoded data removed]",
      "text/plain": [
       "<matplotlib.figure.Figure at 0x1122d4f90>"
      ]
     },
     "metadata": {},
     "output_type": "display_data"
    }
   ],
   "source": [
    "fig = plt.figure()\n",
    "common_params = dict(bins=20, alpha=0.85, range=(0,0.4))\n",
    "\n",
    "ax = fig.add_subplot(211)\n",
    "plt.hist(highsaleszips['ASIAN'], label='Sales Zips', **common_params)\n",
    "ax.set_ylabel(highzipaxlabel)\n",
    "ax.axhline(0, color='gray', lw=2)\n",
    "\n",
    "ax_national = ax.twinx()\n",
    "ax_national.set_ylabel(nationalaxlabel)\n",
    "ax_national.hist(census_df['ASIAN'], label='National distribution', histtype='step', linewidth=3, color='orange', **common_params)\n",
    "\n",
    "plt.title(\"Proportion, Asian race\")\n",
    "plt.legend(loc='upper right')\n",
    "plt.show()"
   ]
  },
  {
   "cell_type": "markdown",
   "metadata": {},
   "source": [
    "## Hispanic or Latino"
   ]
  },
  {
   "cell_type": "code",
   "execution_count": 32,
   "metadata": {
    "collapsed": false
   },
   "outputs": [
    {
     "data": {
      "image/png": "[encoded data removed]",
      "text/plain": [
       "<matplotlib.figure.Figure at 0x1126ae390>"
      ]
     },
     "metadata": {},
     "output_type": "display_data"
    }
   ],
   "source": [
    "fig = plt.figure()\n",
    "common_params = dict(bins=20, alpha=0.85, range=(0,0.4))\n",
    "\n",
    "ax = fig.add_subplot(211)\n",
    "plt.hist(highsaleszips['HISPLAT'], label='Sales Zips', **common_params)\n",
    "ax.set_ylabel(highzipaxlabel)\n",
    "ax.axhline(0, color='gray', lw=2)\n",
    "\n",
    "ax_national = ax.twinx()\n",
    "ax_national.set_ylabel(nationalaxlabel)\n",
    "ax_national.hist(census_df['HISPLAT'], label='National distribution', histtype='step', linewidth=3, color='orange', **common_params)\n",
    "\n",
    "plt.title(\"Proportion of Hispanic or Latino race\")\n",
    "plt.legend(loc='upper right')\n",
    "plt.show()"
   ]
  },
  {
   "cell_type": "markdown",
   "metadata": {},
   "source": [
    "## Major racial groups for zip codes in which we have sales"
   ]
  },
  {
   "cell_type": "code",
   "execution_count": 33,
   "metadata": {
    "collapsed": false
   },
   "outputs": [
    {
     "data": {
      "text/plain": [
       "<matplotlib.legend.Legend at 0x112222390>"
      ]
     },
     "execution_count": 33,
     "metadata": {},
     "output_type": "execute_result"
    },
    {
     "data": {
      "image/png": "[encoded data removed]",
      "text/plain": [
       "<matplotlib.figure.Figure at 0x10fb9ebd0>"
      ]
     },
     "metadata": {},
     "output_type": "display_data"
    }
   ],
   "source": [
    "highsaleszips.loc[:,'WHITE':'ASIAN'].plot(kind='bar', stacked=True, figsize=(12,8), title='Race in sales areas')\n",
    "plt.ylim(0, 1)\n",
    "plt.legend(bbox_to_anchor=(1.05, 1), loc=2, borderaxespad=0.)"
   ]
  },
  {
   "cell_type": "code",
   "execution_count": null,
   "metadata": {
    "collapsed": true
   },
   "outputs": [],
   "source": []
  }
 ],
 "metadata": {
  "kernelspec": {
   "display_name": "Python 2",
   "language": "python",
   "name": "python2"
  },
  "language_info": {
   "codemirror_mode": {
    "name": "ipython",
    "version": 2
   },
   "file_extension": ".py",
   "mimetype": "text/x-python",
   "name": "python",
   "nbconvert_exporter": "python",
   "pygments_lexer": "ipython2",
   "version": "2.7.11"
  }
 },
 "nbformat": 4,
 "nbformat_minor": 0
}
